{
  "cells": [
    {
      "cell_type": "markdown",
      "metadata": {
        "colab_type": "text",
        "id": "view-in-github"
      },
      "source": [
        "<a href=\"https://colab.research.google.com/github/034adarsh/Stock-Price-Prediction-Using-LSTM/blob/main/LSTM_Improved_model(diff_dataset).ipynb\" target=\"_parent\"><img src=\"https://colab.research.google.com/assets/colab-badge.svg\" alt=\"Open In Colab\"/></a>"
      ]
    },
    {
      "cell_type": "markdown",
      "id": "yrU0iWdalVGx",
      "metadata": {
        "id": "yrU0iWdalVGx"
      },
      "source": [
        "# Import all the required libraries\n",
        "\n",
        "---\n",
        "\n"
      ]
    },
    {
      "cell_type": "code",
      "execution_count": 51,
      "id": "4189cf86",
      "metadata": {
        "id": "4189cf86",
        "scrolled": false
      },
      "outputs": [],
      "source": [
        "\n",
        "\n",
        "import pandas as pd\n",
        "import datetime as dt\n",
        "from datetime import date\n",
        "import matplotlib.pyplot as plt\n",
        "import yfinance as yf\n",
        "import numpy as np\n",
        "import tensorflow as tf"
      ]
    },
    {
      "cell_type": "markdown",
      "id": "Nij98iZElfyQ",
      "metadata": {
        "id": "Nij98iZElfyQ"
      },
      "source": [
        "# Define start day to fetch the dataset from the yahoo finance library\n",
        "\n",
        "---\n",
        "\n"
      ]
    },
    {
      "cell_type": "code",
      "execution_count": 52,
      "id": "d20a4c49",
      "metadata": {
        "id": "d20a4c49",
        "scrolled": false
      },
      "outputs": [],
      "source": [
        "\n",
        "\n",
        "START = \"2010-01-01\"\n",
        "TODAY = date.today().strftime(\"%Y-%m-%d\")\n",
        "\n",
        "# Define a function to load the dataset\n",
        "\n",
        "def load_data(ticker):\n",
        "    data = yf.download(ticker, START, TODAY)\n",
        "    data.reset_index(inplace=True)\n",
        "    return data"
      ]
    },
    {
      "cell_type": "code",
      "execution_count": 53,
      "id": "c5f71e4e",
      "metadata": {
        "colab": {
          "base_uri": "https://localhost:8080/",
          "height": 224
        },
        "id": "c5f71e4e",
        "outputId": "047bd0e5-7e20-4d32-8d6f-0a0c1c5a2983"
      },
      "outputs": [
        {
          "name": "stderr",
          "output_type": "stream",
          "text": [
            "C:\\Users\\admin\\AppData\\Local\\Temp\\ipykernel_30656\\1794888428.py:7: FutureWarning: YF.download() has changed argument auto_adjust default to True\n",
            "  data = yf.download(ticker, START, TODAY)\n",
            "[*********************100%***********************]  1 of 1 completed\n"
          ]
        },
        {
          "data": {
            "text/html": [
              "<div>\n",
              "<style scoped>\n",
              "    .dataframe tbody tr th:only-of-type {\n",
              "        vertical-align: middle;\n",
              "    }\n",
              "\n",
              "    .dataframe tbody tr th {\n",
              "        vertical-align: top;\n",
              "    }\n",
              "\n",
              "    .dataframe thead tr th {\n",
              "        text-align: left;\n",
              "    }\n",
              "</style>\n",
              "<table border=\"1\" class=\"dataframe\">\n",
              "  <thead>\n",
              "    <tr>\n",
              "      <th>Price</th>\n",
              "      <th>Date</th>\n",
              "      <th>Close</th>\n",
              "      <th>High</th>\n",
              "      <th>Low</th>\n",
              "      <th>Open</th>\n",
              "      <th>Volume</th>\n",
              "    </tr>\n",
              "    <tr>\n",
              "      <th>Ticker</th>\n",
              "      <th></th>\n",
              "      <th>GOOG</th>\n",
              "      <th>GOOG</th>\n",
              "      <th>GOOG</th>\n",
              "      <th>GOOG</th>\n",
              "      <th>GOOG</th>\n",
              "    </tr>\n",
              "  </thead>\n",
              "  <tbody>\n",
              "    <tr>\n",
              "      <th>0</th>\n",
              "      <td>2010-01-04</td>\n",
              "      <td>15.517998</td>\n",
              "      <td>15.586333</td>\n",
              "      <td>15.455851</td>\n",
              "      <td>15.522949</td>\n",
              "      <td>78541293</td>\n",
              "    </tr>\n",
              "    <tr>\n",
              "      <th>1</th>\n",
              "      <td>2010-01-05</td>\n",
              "      <td>15.449662</td>\n",
              "      <td>15.544986</td>\n",
              "      <td>15.389001</td>\n",
              "      <td>15.528644</td>\n",
              "      <td>120638494</td>\n",
              "    </tr>\n",
              "    <tr>\n",
              "      <th>2</th>\n",
              "      <td>2010-01-06</td>\n",
              "      <td>15.060196</td>\n",
              "      <td>15.495962</td>\n",
              "      <td>15.013153</td>\n",
              "      <td>15.495962</td>\n",
              "      <td>159744526</td>\n",
              "    </tr>\n",
              "    <tr>\n",
              "      <th>3</th>\n",
              "      <td>2010-01-07</td>\n",
              "      <td>14.709600</td>\n",
              "      <td>15.103276</td>\n",
              "      <td>14.673699</td>\n",
              "      <td>15.088421</td>\n",
              "      <td>257533695</td>\n",
              "    </tr>\n",
              "    <tr>\n",
              "      <th>4</th>\n",
              "      <td>2010-01-08</td>\n",
              "      <td>14.905696</td>\n",
              "      <td>14.936150</td>\n",
              "      <td>14.586051</td>\n",
              "      <td>14.657605</td>\n",
              "      <td>189680313</td>\n",
              "    </tr>\n",
              "  </tbody>\n",
              "</table>\n",
              "</div>"
            ],
            "text/plain": [
              "Price        Date      Close       High        Low       Open     Volume\n",
              "Ticker                  GOOG       GOOG       GOOG       GOOG       GOOG\n",
              "0      2010-01-04  15.517998  15.586333  15.455851  15.522949   78541293\n",
              "1      2010-01-05  15.449662  15.544986  15.389001  15.528644  120638494\n",
              "2      2010-01-06  15.060196  15.495962  15.013153  15.495962  159744526\n",
              "3      2010-01-07  14.709600  15.103276  14.673699  15.088421  257533695\n",
              "4      2010-01-08  14.905696  14.936150  14.586051  14.657605  189680313"
            ]
          },
          "execution_count": 53,
          "metadata": {},
          "output_type": "execute_result"
        }
      ],
      "source": [
        "data = load_data('GOOG')  # Replace 'TCS.NS' with the desired stock ticker\n",
        "df=data\n",
        "df.head()"
      ]
    },
    {
      "cell_type": "code",
      "execution_count": 54,
      "id": "c7ec39e4",
      "metadata": {
        "colab": {
          "base_uri": "https://localhost:8080/",
          "height": 206
        },
        "id": "c7ec39e4",
        "outputId": "96670f67-4c6a-40fc-b065-a7820a2f9f46"
      },
      "outputs": [
        {
          "name": "stderr",
          "output_type": "stream",
          "text": [
            "C:\\Users\\admin\\AppData\\Local\\Temp\\ipykernel_30656\\3800106837.py:1: PerformanceWarning: dropping on a non-lexsorted multi-index without a level parameter may impact performance.\n",
            "  df = df.drop(['Date',], axis = 1)\n"
          ]
        },
        {
          "data": {
            "text/html": [
              "<div>\n",
              "<style scoped>\n",
              "    .dataframe tbody tr th:only-of-type {\n",
              "        vertical-align: middle;\n",
              "    }\n",
              "\n",
              "    .dataframe tbody tr th {\n",
              "        vertical-align: top;\n",
              "    }\n",
              "\n",
              "    .dataframe thead tr th {\n",
              "        text-align: left;\n",
              "    }\n",
              "</style>\n",
              "<table border=\"1\" class=\"dataframe\">\n",
              "  <thead>\n",
              "    <tr>\n",
              "      <th>Price</th>\n",
              "      <th>Close</th>\n",
              "      <th>High</th>\n",
              "      <th>Low</th>\n",
              "      <th>Open</th>\n",
              "      <th>Volume</th>\n",
              "    </tr>\n",
              "    <tr>\n",
              "      <th>Ticker</th>\n",
              "      <th>GOOG</th>\n",
              "      <th>GOOG</th>\n",
              "      <th>GOOG</th>\n",
              "      <th>GOOG</th>\n",
              "      <th>GOOG</th>\n",
              "    </tr>\n",
              "  </thead>\n",
              "  <tbody>\n",
              "    <tr>\n",
              "      <th>0</th>\n",
              "      <td>15.517998</td>\n",
              "      <td>15.586333</td>\n",
              "      <td>15.455851</td>\n",
              "      <td>15.522949</td>\n",
              "      <td>78541293</td>\n",
              "    </tr>\n",
              "    <tr>\n",
              "      <th>1</th>\n",
              "      <td>15.449662</td>\n",
              "      <td>15.544986</td>\n",
              "      <td>15.389001</td>\n",
              "      <td>15.528644</td>\n",
              "      <td>120638494</td>\n",
              "    </tr>\n",
              "    <tr>\n",
              "      <th>2</th>\n",
              "      <td>15.060196</td>\n",
              "      <td>15.495962</td>\n",
              "      <td>15.013153</td>\n",
              "      <td>15.495962</td>\n",
              "      <td>159744526</td>\n",
              "    </tr>\n",
              "    <tr>\n",
              "      <th>3</th>\n",
              "      <td>14.709600</td>\n",
              "      <td>15.103276</td>\n",
              "      <td>14.673699</td>\n",
              "      <td>15.088421</td>\n",
              "      <td>257533695</td>\n",
              "    </tr>\n",
              "    <tr>\n",
              "      <th>4</th>\n",
              "      <td>14.905696</td>\n",
              "      <td>14.936150</td>\n",
              "      <td>14.586051</td>\n",
              "      <td>14.657605</td>\n",
              "      <td>189680313</td>\n",
              "    </tr>\n",
              "  </tbody>\n",
              "</table>\n",
              "</div>"
            ],
            "text/plain": [
              "Price       Close       High        Low       Open     Volume\n",
              "Ticker       GOOG       GOOG       GOOG       GOOG       GOOG\n",
              "0       15.517998  15.586333  15.455851  15.522949   78541293\n",
              "1       15.449662  15.544986  15.389001  15.528644  120638494\n",
              "2       15.060196  15.495962  15.013153  15.495962  159744526\n",
              "3       14.709600  15.103276  14.673699  15.088421  257533695\n",
              "4       14.905696  14.936150  14.586051  14.657605  189680313"
            ]
          },
          "execution_count": 54,
          "metadata": {},
          "output_type": "execute_result"
        }
      ],
      "source": [
        "df = df.drop(['Date',], axis = 1)\n",
        "df.head()"
      ]
    },
    {
      "cell_type": "markdown",
      "id": "M-ojrPeXOxPq",
      "metadata": {
        "id": "M-ojrPeXOxPq"
      },
      "source": [
        "Visualizing Closing Price"
      ]
    },
    {
      "cell_type": "code",
      "execution_count": 55,
      "id": "DCvdjb9gOhar",
      "metadata": {
        "colab": {
          "base_uri": "https://localhost:8080/",
          "height": 564
        },
        "id": "DCvdjb9gOhar",
        "outputId": "313d9fe1-80f9-43a6-a204-1051f9acd959"
      },
      "outputs": [
        {
          "data": {
            "image/png": "[encoded data removed]",
            "text/plain": [
              "<Figure size 1200x600 with 1 Axes>"
            ]
          },
          "metadata": {},
          "output_type": "display_data"
        }
      ],
      "source": [
        "plt.figure(figsize=(12, 6))\n",
        "plt.plot(df['Close'])\n",
        "plt.title(\"TCS India Stock Price\")\n",
        "plt.xlabel(\"Date\")\n",
        "plt.ylabel(\"Price (INR)\")\n",
        "plt.grid(True)\n",
        "plt.show()"
      ]
    },
    {
      "cell_type": "code",
      "execution_count": 56,
      "id": "73888072",
      "metadata": {
        "colab": {
          "base_uri": "https://localhost:8080/",
          "height": 424
        },
        "id": "73888072",
        "outputId": "c3ff127c-8c35-4bb6-a18d-a7880266b57f"
      },
      "outputs": [
        {
          "data": {
            "text/html": [
              "<div>\n",
              "<style scoped>\n",
              "    .dataframe tbody tr th:only-of-type {\n",
              "        vertical-align: middle;\n",
              "    }\n",
              "\n",
              "    .dataframe tbody tr th {\n",
              "        vertical-align: top;\n",
              "    }\n",
              "\n",
              "    .dataframe thead tr th {\n",
              "        text-align: left;\n",
              "    }\n",
              "</style>\n",
              "<table border=\"1\" class=\"dataframe\">\n",
              "  <thead>\n",
              "    <tr>\n",
              "      <th>Price</th>\n",
              "      <th>Close</th>\n",
              "      <th>High</th>\n",
              "      <th>Low</th>\n",
              "      <th>Open</th>\n",
              "      <th>Volume</th>\n",
              "    </tr>\n",
              "    <tr>\n",
              "      <th>Ticker</th>\n",
              "      <th>GOOG</th>\n",
              "      <th>GOOG</th>\n",
              "      <th>GOOG</th>\n",
              "      <th>GOOG</th>\n",
              "      <th>GOOG</th>\n",
              "    </tr>\n",
              "  </thead>\n",
              "  <tbody>\n",
              "    <tr>\n",
              "      <th>0</th>\n",
              "      <td>15.517998</td>\n",
              "      <td>15.586333</td>\n",
              "      <td>15.455851</td>\n",
              "      <td>15.522949</td>\n",
              "      <td>78541293</td>\n",
              "    </tr>\n",
              "    <tr>\n",
              "      <th>1</th>\n",
              "      <td>15.449662</td>\n",
              "      <td>15.544986</td>\n",
              "      <td>15.389001</td>\n",
              "      <td>15.528644</td>\n",
              "      <td>120638494</td>\n",
              "    </tr>\n",
              "    <tr>\n",
              "      <th>2</th>\n",
              "      <td>15.060196</td>\n",
              "      <td>15.495962</td>\n",
              "      <td>15.013153</td>\n",
              "      <td>15.495962</td>\n",
              "      <td>159744526</td>\n",
              "    </tr>\n",
              "    <tr>\n",
              "      <th>3</th>\n",
              "      <td>14.709600</td>\n",
              "      <td>15.103276</td>\n",
              "      <td>14.673699</td>\n",
              "      <td>15.088421</td>\n",
              "      <td>257533695</td>\n",
              "    </tr>\n",
              "    <tr>\n",
              "      <th>4</th>\n",
              "      <td>14.905696</td>\n",
              "      <td>14.936150</td>\n",
              "      <td>14.586051</td>\n",
              "      <td>14.657605</td>\n",
              "      <td>189680313</td>\n",
              "    </tr>\n",
              "    <tr>\n",
              "      <th>...</th>\n",
              "      <td>...</td>\n",
              "      <td>...</td>\n",
              "      <td>...</td>\n",
              "      <td>...</td>\n",
              "      <td>...</td>\n",
              "    </tr>\n",
              "    <tr>\n",
              "      <th>3890</th>\n",
              "      <td>166.009995</td>\n",
              "      <td>168.479996</td>\n",
              "      <td>163.330002</td>\n",
              "      <td>167.320007</td>\n",
              "      <td>36975600</td>\n",
              "    </tr>\n",
              "    <tr>\n",
              "      <th>3891</th>\n",
              "      <td>167.740005</td>\n",
              "      <td>169.250000</td>\n",
              "      <td>166.910004</td>\n",
              "      <td>167.684998</td>\n",
              "      <td>27310300</td>\n",
              "    </tr>\n",
              "    <tr>\n",
              "      <th>3892</th>\n",
              "      <td>171.490005</td>\n",
              "      <td>173.360001</td>\n",
              "      <td>168.561005</td>\n",
              "      <td>168.649994</td>\n",
              "      <td>23627400</td>\n",
              "    </tr>\n",
              "    <tr>\n",
              "      <th>3893</th>\n",
              "      <td>174.429993</td>\n",
              "      <td>174.649994</td>\n",
              "      <td>170.860001</td>\n",
              "      <td>173.384995</td>\n",
              "      <td>25909100</td>\n",
              "    </tr>\n",
              "    <tr>\n",
              "      <th>3894</th>\n",
              "      <td>178.270004</td>\n",
              "      <td>178.839996</td>\n",
              "      <td>172.710007</td>\n",
              "      <td>174.630005</td>\n",
              "      <td>73977100</td>\n",
              "    </tr>\n",
              "  </tbody>\n",
              "</table>\n",
              "<p>3895 rows × 5 columns</p>\n",
              "</div>"
            ],
            "text/plain": [
              "Price        Close        High         Low        Open     Volume\n",
              "Ticker        GOOG        GOOG        GOOG        GOOG       GOOG\n",
              "0        15.517998   15.586333   15.455851   15.522949   78541293\n",
              "1        15.449662   15.544986   15.389001   15.528644  120638494\n",
              "2        15.060196   15.495962   15.013153   15.495962  159744526\n",
              "3        14.709600   15.103276   14.673699   15.088421  257533695\n",
              "4        14.905696   14.936150   14.586051   14.657605  189680313\n",
              "...            ...         ...         ...         ...        ...\n",
              "3890    166.009995  168.479996  163.330002  167.320007   36975600\n",
              "3891    167.740005  169.250000  166.910004  167.684998   27310300\n",
              "3892    171.490005  173.360001  168.561005  168.649994   23627400\n",
              "3893    174.429993  174.649994  170.860001  173.384995   25909100\n",
              "3894    178.270004  178.839996  172.710007  174.630005   73977100\n",
              "\n",
              "[3895 rows x 5 columns]"
            ]
          },
          "execution_count": 56,
          "metadata": {},
          "output_type": "execute_result"
        }
      ],
      "source": [
        "df"
      ]
    },
    {
      "cell_type": "markdown",
      "id": "UMkTEOfBlzte",
      "metadata": {
        "id": "UMkTEOfBlzte"
      },
      "source": [
        "# Plotting moving averages of 100 day\n",
        "\n",
        "---\n",
        "\n"
      ]
    },
    {
      "cell_type": "code",
      "execution_count": 57,
      "id": "114d2e0c",
      "metadata": {
        "colab": {
          "base_uri": "https://localhost:8080/"
        },
        "id": "114d2e0c",
        "outputId": "aad49169-4922-4f48-bd62-84ec26fa3768"
      },
      "outputs": [
        {
          "data": {
            "text/html": [
              "<div>\n",
              "<style scoped>\n",
              "    .dataframe tbody tr th:only-of-type {\n",
              "        vertical-align: middle;\n",
              "    }\n",
              "\n",
              "    .dataframe tbody tr th {\n",
              "        vertical-align: top;\n",
              "    }\n",
              "\n",
              "    .dataframe thead th {\n",
              "        text-align: right;\n",
              "    }\n",
              "</style>\n",
              "<table border=\"1\" class=\"dataframe\">\n",
              "  <thead>\n",
              "    <tr style=\"text-align: right;\">\n",
              "      <th>Ticker</th>\n",
              "      <th>GOOG</th>\n",
              "    </tr>\n",
              "  </thead>\n",
              "  <tbody>\n",
              "    <tr>\n",
              "      <th>0</th>\n",
              "      <td>NaN</td>\n",
              "    </tr>\n",
              "    <tr>\n",
              "      <th>1</th>\n",
              "      <td>NaN</td>\n",
              "    </tr>\n",
              "    <tr>\n",
              "      <th>2</th>\n",
              "      <td>NaN</td>\n",
              "    </tr>\n",
              "    <tr>\n",
              "      <th>3</th>\n",
              "      <td>NaN</td>\n",
              "    </tr>\n",
              "    <tr>\n",
              "      <th>4</th>\n",
              "      <td>NaN</td>\n",
              "    </tr>\n",
              "    <tr>\n",
              "      <th>...</th>\n",
              "      <td>...</td>\n",
              "    </tr>\n",
              "    <tr>\n",
              "      <th>3890</th>\n",
              "      <td>170.083630</td>\n",
              "    </tr>\n",
              "    <tr>\n",
              "      <th>3891</th>\n",
              "      <td>169.793839</td>\n",
              "    </tr>\n",
              "    <tr>\n",
              "      <th>3892</th>\n",
              "      <td>169.487175</td>\n",
              "    </tr>\n",
              "    <tr>\n",
              "      <th>3893</th>\n",
              "      <td>169.180280</td>\n",
              "    </tr>\n",
              "    <tr>\n",
              "      <th>3894</th>\n",
              "      <td>168.941316</td>\n",
              "    </tr>\n",
              "  </tbody>\n",
              "</table>\n",
              "<p>3895 rows × 1 columns</p>\n",
              "</div>"
            ],
            "text/plain": [
              "Ticker        GOOG\n",
              "0              NaN\n",
              "1              NaN\n",
              "2              NaN\n",
              "3              NaN\n",
              "4              NaN\n",
              "...            ...\n",
              "3890    170.083630\n",
              "3891    169.793839\n",
              "3892    169.487175\n",
              "3893    169.180280\n",
              "3894    168.941316\n",
              "\n",
              "[3895 rows x 1 columns]"
            ]
          },
          "execution_count": 57,
          "metadata": {},
          "output_type": "execute_result"
        }
      ],
      "source": [
        "ma100 = df.Close.rolling(100).mean()\n",
        "ma100"
      ]
    },
    {
      "cell_type": "code",
      "execution_count": 58,
      "id": "e2f6b740",
      "metadata": {
        "colab": {
          "base_uri": "https://localhost:8080/",
          "height": 563
        },
        "id": "e2f6b740",
        "outputId": "136dd8a6-23d1-4fef-d676-8db5fed9e4b5"
      },
      "outputs": [
        {
          "data": {
            "text/plain": [
              "Text(0.5, 1.0, 'Graph Of Moving Averages Of 100 Days')"
            ]
          },
          "execution_count": 58,
          "metadata": {},
          "output_type": "execute_result"
        },
        {
          "data": {
            "image/png": "[encoded data removed]",
            "text/plain": [
              "<Figure size 1200x600 with 1 Axes>"
            ]
          },
          "metadata": {},
          "output_type": "display_data"
        }
      ],
      "source": [
        "plt.figure(figsize = (12,6))\n",
        "plt.plot(df.Close)\n",
        "plt.plot(ma100, 'r')\n",
        "plt.grid(True)\n",
        "plt.title('Graph Of Moving Averages Of 100 Days')"
      ]
    },
    {
      "cell_type": "markdown",
      "id": "LQKvGsXwmN65",
      "metadata": {
        "id": "LQKvGsXwmN65"
      },
      "source": [
        "# Defining 200 days moving averages and plotting comparision graph with 100 days moving averages\n",
        "\n",
        "---\n",
        "\n"
      ]
    },
    {
      "cell_type": "code",
      "execution_count": 59,
      "id": "46c89811",
      "metadata": {
        "colab": {
          "base_uri": "https://localhost:8080/"
        },
        "id": "46c89811",
        "outputId": "a7a974f0-937e-4265-b375-929053f46272"
      },
      "outputs": [
        {
          "data": {
            "text/html": [
              "<div>\n",
              "<style scoped>\n",
              "    .dataframe tbody tr th:only-of-type {\n",
              "        vertical-align: middle;\n",
              "    }\n",
              "\n",
              "    .dataframe tbody tr th {\n",
              "        vertical-align: top;\n",
              "    }\n",
              "\n",
              "    .dataframe thead th {\n",
              "        text-align: right;\n",
              "    }\n",
              "</style>\n",
              "<table border=\"1\" class=\"dataframe\">\n",
              "  <thead>\n",
              "    <tr style=\"text-align: right;\">\n",
              "      <th>Ticker</th>\n",
              "      <th>GOOG</th>\n",
              "    </tr>\n",
              "  </thead>\n",
              "  <tbody>\n",
              "    <tr>\n",
              "      <th>0</th>\n",
              "      <td>NaN</td>\n",
              "    </tr>\n",
              "    <tr>\n",
              "      <th>1</th>\n",
              "      <td>NaN</td>\n",
              "    </tr>\n",
              "    <tr>\n",
              "      <th>2</th>\n",
              "      <td>NaN</td>\n",
              "    </tr>\n",
              "    <tr>\n",
              "      <th>3</th>\n",
              "      <td>NaN</td>\n",
              "    </tr>\n",
              "    <tr>\n",
              "      <th>4</th>\n",
              "      <td>NaN</td>\n",
              "    </tr>\n",
              "    <tr>\n",
              "      <th>...</th>\n",
              "      <td>...</td>\n",
              "    </tr>\n",
              "    <tr>\n",
              "      <th>3890</th>\n",
              "      <td>173.046224</td>\n",
              "    </tr>\n",
              "    <tr>\n",
              "      <th>3891</th>\n",
              "      <td>173.099644</td>\n",
              "    </tr>\n",
              "    <tr>\n",
              "      <th>3892</th>\n",
              "      <td>173.167883</td>\n",
              "    </tr>\n",
              "    <tr>\n",
              "      <th>3893</th>\n",
              "      <td>173.283017</td>\n",
              "    </tr>\n",
              "    <tr>\n",
              "      <th>3894</th>\n",
              "      <td>173.429260</td>\n",
              "    </tr>\n",
              "  </tbody>\n",
              "</table>\n",
              "<p>3895 rows × 1 columns</p>\n",
              "</div>"
            ],
            "text/plain": [
              "Ticker        GOOG\n",
              "0              NaN\n",
              "1              NaN\n",
              "2              NaN\n",
              "3              NaN\n",
              "4              NaN\n",
              "...            ...\n",
              "3890    173.046224\n",
              "3891    173.099644\n",
              "3892    173.167883\n",
              "3893    173.283017\n",
              "3894    173.429260\n",
              "\n",
              "[3895 rows x 1 columns]"
            ]
          },
          "execution_count": 59,
          "metadata": {},
          "output_type": "execute_result"
        }
      ],
      "source": [
        "ma200 = df.Close.rolling(200).mean()\n",
        "ma200"
      ]
    },
    {
      "cell_type": "code",
      "execution_count": 60,
      "id": "d7c0ce2e",
      "metadata": {
        "colab": {
          "base_uri": "https://localhost:8080/",
          "height": 563
        },
        "id": "d7c0ce2e",
        "outputId": "853bd4ca-af7d-4c81-9d9d-92ec6eddbef2"
      },
      "outputs": [
        {
          "data": {
            "text/plain": [
              "Text(0.5, 1.0, 'Comparision Of 100 Days And 200 Days Moving Averages')"
            ]
          },
          "execution_count": 60,
          "metadata": {},
          "output_type": "execute_result"
        },
        {
          "data": {
            "image/png": "[encoded data removed]",
            "text/plain": [
              "<Figure size 1200x600 with 1 Axes>"
            ]
          },
          "metadata": {},
          "output_type": "display_data"
        }
      ],
      "source": [
        "plt.figure(figsize = (12,6))\n",
        "plt.plot(df.Close)\n",
        "plt.plot(ma100, 'r')\n",
        "plt.plot(ma200, 'g')\n",
        "plt.grid(True)\n",
        "plt.title('Comparision Of 100 Days And 200 Days Moving Averages')"
      ]
    },
    {
      "cell_type": "code",
      "execution_count": 61,
      "id": "45a099a7",
      "metadata": {
        "colab": {
          "base_uri": "https://localhost:8080/"
        },
        "id": "45a099a7",
        "outputId": "c3685930-176a-4c2d-b391-69866c4637c5"
      },
      "outputs": [
        {
          "data": {
            "text/plain": [
              "(3895, 5)"
            ]
          },
          "execution_count": 61,
          "metadata": {},
          "output_type": "execute_result"
        }
      ],
      "source": [
        "df.shape"
      ]
    },
    {
      "cell_type": "markdown",
      "id": "bCw5fsrlmfpm",
      "metadata": {
        "id": "bCw5fsrlmfpm"
      },
      "source": [
        "# Spliting the dataset into training (70%) and testing (30%) set"
      ]
    },
    {
      "cell_type": "code",
      "execution_count": 62,
      "id": "9610c5fc",
      "metadata": {
        "colab": {
          "base_uri": "https://localhost:8080/"
        },
        "id": "9610c5fc",
        "outputId": "56ee8fcd-ce88-4705-f511-b030a00712c0"
      },
      "outputs": [
        {
          "name": "stdout",
          "output_type": "stream",
          "text": [
            "(2726, 6)\n",
            "(1169, 6)\n"
          ]
        }
      ],
      "source": [
        "# Splitting data into training and testing\n",
        "\n",
        "train = pd.DataFrame(data[0:int(len(data)*0.70)])\n",
        "test = pd.DataFrame(data[int(len(data)*0.70): int(len(data))])\n",
        "\n",
        "print(train.shape)\n",
        "print(test.shape)"
      ]
    },
    {
      "cell_type": "code",
      "execution_count": 63,
      "id": "2cb33dc0",
      "metadata": {
        "colab": {
          "base_uri": "https://localhost:8080/",
          "height": 206
        },
        "id": "2cb33dc0",
        "outputId": "bccf505c-0272-48e4-8b35-138abd6723dd"
      },
      "outputs": [
        {
          "data": {
            "text/html": [
              "<div>\n",
              "<style scoped>\n",
              "    .dataframe tbody tr th:only-of-type {\n",
              "        vertical-align: middle;\n",
              "    }\n",
              "\n",
              "    .dataframe tbody tr th {\n",
              "        vertical-align: top;\n",
              "    }\n",
              "\n",
              "    .dataframe thead tr th {\n",
              "        text-align: left;\n",
              "    }\n",
              "</style>\n",
              "<table border=\"1\" class=\"dataframe\">\n",
              "  <thead>\n",
              "    <tr>\n",
              "      <th>Price</th>\n",
              "      <th>Date</th>\n",
              "      <th>Close</th>\n",
              "      <th>High</th>\n",
              "      <th>Low</th>\n",
              "      <th>Open</th>\n",
              "      <th>Volume</th>\n",
              "    </tr>\n",
              "    <tr>\n",
              "      <th>Ticker</th>\n",
              "      <th></th>\n",
              "      <th>GOOG</th>\n",
              "      <th>GOOG</th>\n",
              "      <th>GOOG</th>\n",
              "      <th>GOOG</th>\n",
              "      <th>GOOG</th>\n",
              "    </tr>\n",
              "  </thead>\n",
              "  <tbody>\n",
              "    <tr>\n",
              "      <th>0</th>\n",
              "      <td>2010-01-04</td>\n",
              "      <td>15.517998</td>\n",
              "      <td>15.586333</td>\n",
              "      <td>15.455851</td>\n",
              "      <td>15.522949</td>\n",
              "      <td>78541293</td>\n",
              "    </tr>\n",
              "    <tr>\n",
              "      <th>1</th>\n",
              "      <td>2010-01-05</td>\n",
              "      <td>15.449662</td>\n",
              "      <td>15.544986</td>\n",
              "      <td>15.389001</td>\n",
              "      <td>15.528644</td>\n",
              "      <td>120638494</td>\n",
              "    </tr>\n",
              "    <tr>\n",
              "      <th>2</th>\n",
              "      <td>2010-01-06</td>\n",
              "      <td>15.060196</td>\n",
              "      <td>15.495962</td>\n",
              "      <td>15.013153</td>\n",
              "      <td>15.495962</td>\n",
              "      <td>159744526</td>\n",
              "    </tr>\n",
              "    <tr>\n",
              "      <th>3</th>\n",
              "      <td>2010-01-07</td>\n",
              "      <td>14.709600</td>\n",
              "      <td>15.103276</td>\n",
              "      <td>14.673699</td>\n",
              "      <td>15.088421</td>\n",
              "      <td>257533695</td>\n",
              "    </tr>\n",
              "    <tr>\n",
              "      <th>4</th>\n",
              "      <td>2010-01-08</td>\n",
              "      <td>14.905696</td>\n",
              "      <td>14.936150</td>\n",
              "      <td>14.586051</td>\n",
              "      <td>14.657605</td>\n",
              "      <td>189680313</td>\n",
              "    </tr>\n",
              "  </tbody>\n",
              "</table>\n",
              "</div>"
            ],
            "text/plain": [
              "Price        Date      Close       High        Low       Open     Volume\n",
              "Ticker                  GOOG       GOOG       GOOG       GOOG       GOOG\n",
              "0      2010-01-04  15.517998  15.586333  15.455851  15.522949   78541293\n",
              "1      2010-01-05  15.449662  15.544986  15.389001  15.528644  120638494\n",
              "2      2010-01-06  15.060196  15.495962  15.013153  15.495962  159744526\n",
              "3      2010-01-07  14.709600  15.103276  14.673699  15.088421  257533695\n",
              "4      2010-01-08  14.905696  14.936150  14.586051  14.657605  189680313"
            ]
          },
          "execution_count": 63,
          "metadata": {},
          "output_type": "execute_result"
        }
      ],
      "source": [
        "train.head()"
      ]
    },
    {
      "cell_type": "code",
      "execution_count": 64,
      "id": "91f5ef8b",
      "metadata": {
        "colab": {
          "base_uri": "https://localhost:8080/",
          "height": 206
        },
        "id": "91f5ef8b",
        "outputId": "8e92506b-b4ea-4eec-c643-0f6e2d34bb90"
      },
      "outputs": [
        {
          "data": {
            "text/html": [
              "<div>\n",
              "<style scoped>\n",
              "    .dataframe tbody tr th:only-of-type {\n",
              "        vertical-align: middle;\n",
              "    }\n",
              "\n",
              "    .dataframe tbody tr th {\n",
              "        vertical-align: top;\n",
              "    }\n",
              "\n",
              "    .dataframe thead tr th {\n",
              "        text-align: left;\n",
              "    }\n",
              "</style>\n",
              "<table border=\"1\" class=\"dataframe\">\n",
              "  <thead>\n",
              "    <tr>\n",
              "      <th>Price</th>\n",
              "      <th>Date</th>\n",
              "      <th>Close</th>\n",
              "      <th>High</th>\n",
              "      <th>Low</th>\n",
              "      <th>Open</th>\n",
              "      <th>Volume</th>\n",
              "    </tr>\n",
              "    <tr>\n",
              "      <th>Ticker</th>\n",
              "      <th></th>\n",
              "      <th>GOOG</th>\n",
              "      <th>GOOG</th>\n",
              "      <th>GOOG</th>\n",
              "      <th>GOOG</th>\n",
              "      <th>GOOG</th>\n",
              "    </tr>\n",
              "  </thead>\n",
              "  <tbody>\n",
              "    <tr>\n",
              "      <th>2726</th>\n",
              "      <td>2020-10-30</td>\n",
              "      <td>80.571571</td>\n",
              "      <td>83.851574</td>\n",
              "      <td>79.748962</td>\n",
              "      <td>83.111474</td>\n",
              "      <td>86582000</td>\n",
              "    </tr>\n",
              "    <tr>\n",
              "      <th>2727</th>\n",
              "      <td>2020-11-02</td>\n",
              "      <td>80.821083</td>\n",
              "      <td>82.547819</td>\n",
              "      <td>80.324038</td>\n",
              "      <td>80.926952</td>\n",
              "      <td>50708000</td>\n",
              "    </tr>\n",
              "    <tr>\n",
              "      <th>2728</th>\n",
              "      <td>2020-11-03</td>\n",
              "      <td>82.022942</td>\n",
              "      <td>82.594048</td>\n",
              "      <td>80.353369</td>\n",
              "      <td>81.106886</td>\n",
              "      <td>33234000</td>\n",
              "    </tr>\n",
              "    <tr>\n",
              "      <th>2729</th>\n",
              "      <td>2020-11-04</td>\n",
              "      <td>86.939705</td>\n",
              "      <td>88.044891</td>\n",
              "      <td>84.797440</td>\n",
              "      <td>85.008686</td>\n",
              "      <td>71418000</td>\n",
              "    </tr>\n",
              "    <tr>\n",
              "      <th>2730</th>\n",
              "      <td>2020-11-05</td>\n",
              "      <td>87.647514</td>\n",
              "      <td>89.152067</td>\n",
              "      <td>87.008308</td>\n",
              "      <td>88.523806</td>\n",
              "      <td>41316000</td>\n",
              "    </tr>\n",
              "  </tbody>\n",
              "</table>\n",
              "</div>"
            ],
            "text/plain": [
              "Price        Date      Close       High        Low       Open    Volume\n",
              "Ticker                  GOOG       GOOG       GOOG       GOOG      GOOG\n",
              "2726   2020-10-30  80.571571  83.851574  79.748962  83.111474  86582000\n",
              "2727   2020-11-02  80.821083  82.547819  80.324038  80.926952  50708000\n",
              "2728   2020-11-03  82.022942  82.594048  80.353369  81.106886  33234000\n",
              "2729   2020-11-04  86.939705  88.044891  84.797440  85.008686  71418000\n",
              "2730   2020-11-05  87.647514  89.152067  87.008308  88.523806  41316000"
            ]
          },
          "execution_count": 64,
          "metadata": {},
          "output_type": "execute_result"
        }
      ],
      "source": [
        "test.head()"
      ]
    },
    {
      "cell_type": "markdown",
      "id": "-a818gdwm_WV",
      "metadata": {
        "id": "-a818gdwm_WV"
      },
      "source": [
        "# Using MinMax scaler for normalization of the dataset\n",
        "\n",
        "---\n",
        "\n"
      ]
    },
    {
      "cell_type": "code",
      "execution_count": 65,
      "id": "01f04df7",
      "metadata": {
        "id": "01f04df7"
      },
      "outputs": [],
      "source": [
        "from sklearn.preprocessing import MinMaxScaler\n",
        "scaler = MinMaxScaler(feature_range=(0,1))"
      ]
    },
    {
      "cell_type": "code",
      "execution_count": 66,
      "id": "53oSB51dB6Tw",
      "metadata": {
        "id": "53oSB51dB6Tw"
      },
      "outputs": [],
      "source": [
        "train_close = train.iloc[:, 4:5].values\n",
        "test_close = test.iloc[:, 4:5].values"
      ]
    },
    {
      "cell_type": "code",
      "execution_count": 67,
      "id": "d97e7ff8",
      "metadata": {
        "colab": {
          "base_uri": "https://localhost:8080/"
        },
        "id": "d97e7ff8",
        "outputId": "eae5e982-ee9f-4be5-af17-b78fc6e6dd45"
      },
      "outputs": [
        {
          "data": {
            "text/plain": [
              "array([[0.06300738],\n",
              "       [0.06308421],\n",
              "       [0.06264332],\n",
              "       ...,\n",
              "       [0.92353124],\n",
              "       [0.89943931],\n",
              "       [0.87437521]])"
            ]
          },
          "execution_count": 67,
          "metadata": {},
          "output_type": "execute_result"
        }
      ],
      "source": [
        "data_training_array = scaler.fit_transform(train_close)\n",
        "data_training_array"
      ]
    },
    {
      "cell_type": "code",
      "execution_count": 68,
      "id": "10227978",
      "metadata": {
        "id": "10227978"
      },
      "outputs": [],
      "source": [
        "x_train = []\n",
        "y_train = [] \n",
        "\n",
        "for i in range(100, data_training_array.shape[0]):\n",
        "    x_train.append(data_training_array[i-100: i])\n",
        "    y_train.append(data_training_array[i, 0])\n",
        "\n",
        "x_train, y_train = np.array(x_train), np.array(y_train) "
      ]
    },
    {
      "cell_type": "code",
      "execution_count": 69,
      "id": "0ea6446e",
      "metadata": {
        "colab": {
          "base_uri": "https://localhost:8080/"
        },
        "id": "0ea6446e",
        "outputId": "16c4a903-7a88-43c7-e30b-89149f057b75"
      },
      "outputs": [
        {
          "data": {
            "text/plain": [
              "(2626, 100, 1)"
            ]
          },
          "execution_count": 69,
          "metadata": {},
          "output_type": "execute_result"
        }
      ],
      "source": [
        "x_train.shape"
      ]
    },
    {
      "cell_type": "markdown",
      "id": "dsMIlQ8DnVOJ",
      "metadata": {
        "id": "dsMIlQ8DnVOJ"
      },
      "source": [
        "# ML Model (LSTM)\n",
        "\n",
        "---\n",
        "\n"
      ]
    },
    {
      "cell_type": "code",
      "execution_count": 70,
      "id": "e60ed317",
      "metadata": {
        "id": "e60ed317"
      },
      "outputs": [],
      "source": [
        "from tensorflow.keras.layers import Dense, Dropout, LSTM\n",
        "from tensorflow.keras.models import Sequential"
      ]
    },
    {
      "cell_type": "code",
      "execution_count": 71,
      "id": "17082610",
      "metadata": {
        "colab": {
          "base_uri": "https://localhost:8080/"
        },
        "id": "17082610",
        "outputId": "e3a8a228-487d-40be-a6ce-7e999581b9d1"
      },
      "outputs": [
        {
          "name": "stderr",
          "output_type": "stream",
          "text": [
            "C:\\Users\\admin\\AppData\\Local\\Packages\\PythonSoftwareFoundation.Python.3.11_qbz5n2kfra8p0\\LocalCache\\local-packages\\Python311\\site-packages\\keras\\src\\layers\\rnn\\rnn.py:199: UserWarning: Do not pass an `input_shape`/`input_dim` argument to a layer. When using Sequential models, prefer using an `Input(shape)` object as the first layer in the model instead.\n",
            "  super().__init__(**kwargs)\n"
          ]
        }
      ],
      "source": [
        "model = Sequential()\n",
        "model.add(LSTM(units = 50, activation = 'relu', return_sequences=True\n",
        "              ,input_shape = (x_train.shape[1], 1)))\n",
        "model.add(Dropout(0.2))\n",
        "\n",
        "\n",
        "model.add(LSTM(units = 60, activation = 'relu', return_sequences=True))\n",
        "model.add(Dropout(0.3))\n",
        "\n",
        "\n",
        "model.add(LSTM(units = 80, activation = 'relu', return_sequences=True))\n",
        "model.add(Dropout(0.4))\n",
        "\n",
        "\n",
        "model.add(LSTM(units = 120, activation = 'relu'))\n",
        "model.add(Dropout(0.5))\n",
        "\n",
        "model.add(Dense(units = 1))"
      ]
    },
    {
      "cell_type": "code",
      "execution_count": 72,
      "id": "5f5a1db3",
      "metadata": {
        "colab": {
          "base_uri": "https://localhost:8080/"
        },
        "id": "5f5a1db3",
        "outputId": "23244ace-c6af-46ed-e068-77c1cd563dd0"
      },
      "outputs": [
        {
          "data": {
            "text/html": [
              "<pre style=\"white-space:pre;overflow-x:auto;line-height:normal;font-family:Menlo,'DejaVu Sans Mono',consolas,'Courier New',monospace\"><span style=\"font-weight: bold\">Model: \"sequential_2\"</span>\n",
              "</pre>\n"
            ],
            "text/plain": [
              "\u001b[1mModel: \"sequential_2\"\u001b[0m\n"
            ]
          },
          "metadata": {},
          "output_type": "display_data"
        },
        {
          "data": {
            "text/html": [
              "<pre style=\"white-space:pre;overflow-x:auto;line-height:normal;font-family:Menlo,'DejaVu Sans Mono',consolas,'Courier New',monospace\">┏━━━━━━━━━━━━━━━━━━━━━━━━━━━━━━━━━┳━━━━━━━━━━━━━━━━━━━━━━━━┳━━━━━━━━━━━━━━━┓\n",
              "┃<span style=\"font-weight: bold\"> Layer (type)                    </span>┃<span style=\"font-weight: bold\"> Output Shape           </span>┃<span style=\"font-weight: bold\">       Param # </span>┃\n",
              "┡━━━━━━━━━━━━━━━━━━━━━━━━━━━━━━━━━╇━━━━━━━━━━━━━━━━━━━━━━━━╇━━━━━━━━━━━━━━━┩\n",
              "│ lstm_8 (<span style=\"color: #0087ff; text-decoration-color: #0087ff\">LSTM</span>)                   │ (<span style=\"color: #00d7ff; text-decoration-color: #00d7ff\">None</span>, <span style=\"color: #00af00; text-decoration-color: #00af00\">100</span>, <span style=\"color: #00af00; text-decoration-color: #00af00\">50</span>)        │        <span style=\"color: #00af00; text-decoration-color: #00af00\">10,400</span> │\n",
              "├─────────────────────────────────┼────────────────────────┼───────────────┤\n",
              "│ dropout_8 (<span style=\"color: #0087ff; text-decoration-color: #0087ff\">Dropout</span>)             │ (<span style=\"color: #00d7ff; text-decoration-color: #00d7ff\">None</span>, <span style=\"color: #00af00; text-decoration-color: #00af00\">100</span>, <span style=\"color: #00af00; text-decoration-color: #00af00\">50</span>)        │             <span style=\"color: #00af00; text-decoration-color: #00af00\">0</span> │\n",
              "├─────────────────────────────────┼────────────────────────┼───────────────┤\n",
              "│ lstm_9 (<span style=\"color: #0087ff; text-decoration-color: #0087ff\">LSTM</span>)                   │ (<span style=\"color: #00d7ff; text-decoration-color: #00d7ff\">None</span>, <span style=\"color: #00af00; text-decoration-color: #00af00\">100</span>, <span style=\"color: #00af00; text-decoration-color: #00af00\">60</span>)        │        <span style=\"color: #00af00; text-decoration-color: #00af00\">26,640</span> │\n",
              "├─────────────────────────────────┼────────────────────────┼───────────────┤\n",
              "│ dropout_9 (<span style=\"color: #0087ff; text-decoration-color: #0087ff\">Dropout</span>)             │ (<span style=\"color: #00d7ff; text-decoration-color: #00d7ff\">None</span>, <span style=\"color: #00af00; text-decoration-color: #00af00\">100</span>, <span style=\"color: #00af00; text-decoration-color: #00af00\">60</span>)        │             <span style=\"color: #00af00; text-decoration-color: #00af00\">0</span> │\n",
              "├─────────────────────────────────┼────────────────────────┼───────────────┤\n",
              "│ lstm_10 (<span style=\"color: #0087ff; text-decoration-color: #0087ff\">LSTM</span>)                  │ (<span style=\"color: #00d7ff; text-decoration-color: #00d7ff\">None</span>, <span style=\"color: #00af00; text-decoration-color: #00af00\">100</span>, <span style=\"color: #00af00; text-decoration-color: #00af00\">80</span>)        │        <span style=\"color: #00af00; text-decoration-color: #00af00\">45,120</span> │\n",
              "├─────────────────────────────────┼────────────────────────┼───────────────┤\n",
              "│ dropout_10 (<span style=\"color: #0087ff; text-decoration-color: #0087ff\">Dropout</span>)            │ (<span style=\"color: #00d7ff; text-decoration-color: #00d7ff\">None</span>, <span style=\"color: #00af00; text-decoration-color: #00af00\">100</span>, <span style=\"color: #00af00; text-decoration-color: #00af00\">80</span>)        │             <span style=\"color: #00af00; text-decoration-color: #00af00\">0</span> │\n",
              "├─────────────────────────────────┼────────────────────────┼───────────────┤\n",
              "│ lstm_11 (<span style=\"color: #0087ff; text-decoration-color: #0087ff\">LSTM</span>)                  │ (<span style=\"color: #00d7ff; text-decoration-color: #00d7ff\">None</span>, <span style=\"color: #00af00; text-decoration-color: #00af00\">120</span>)            │        <span style=\"color: #00af00; text-decoration-color: #00af00\">96,480</span> │\n",
              "├─────────────────────────────────┼────────────────────────┼───────────────┤\n",
              "│ dropout_11 (<span style=\"color: #0087ff; text-decoration-color: #0087ff\">Dropout</span>)            │ (<span style=\"color: #00d7ff; text-decoration-color: #00d7ff\">None</span>, <span style=\"color: #00af00; text-decoration-color: #00af00\">120</span>)            │             <span style=\"color: #00af00; text-decoration-color: #00af00\">0</span> │\n",
              "├─────────────────────────────────┼────────────────────────┼───────────────┤\n",
              "│ dense_2 (<span style=\"color: #0087ff; text-decoration-color: #0087ff\">Dense</span>)                 │ (<span style=\"color: #00d7ff; text-decoration-color: #00d7ff\">None</span>, <span style=\"color: #00af00; text-decoration-color: #00af00\">1</span>)              │           <span style=\"color: #00af00; text-decoration-color: #00af00\">121</span> │\n",
              "└─────────────────────────────────┴────────────────────────┴───────────────┘\n",
              "</pre>\n"
            ],
            "text/plain": [
              "┏━━━━━━━━━━━━━━━━━━━━━━━━━━━━━━━━━┳━━━━━━━━━━━━━━━━━━━━━━━━┳━━━━━━━━━━━━━━━┓\n",
              "┃\u001b[1m \u001b[0m\u001b[1mLayer (type)                   \u001b[0m\u001b[1m \u001b[0m┃\u001b[1m \u001b[0m\u001b[1mOutput Shape          \u001b[0m\u001b[1m \u001b[0m┃\u001b[1m \u001b[0m\u001b[1m      Param #\u001b[0m\u001b[1m \u001b[0m┃\n",
              "┡━━━━━━━━━━━━━━━━━━━━━━━━━━━━━━━━━╇━━━━━━━━━━━━━━━━━━━━━━━━╇━━━━━━━━━━━━━━━┩\n",
              "│ lstm_8 (\u001b[38;5;33mLSTM\u001b[0m)                   │ (\u001b[38;5;45mNone\u001b[0m, \u001b[38;5;34m100\u001b[0m, \u001b[38;5;34m50\u001b[0m)        │        \u001b[38;5;34m10,400\u001b[0m │\n",
              "├─────────────────────────────────┼────────────────────────┼───────────────┤\n",
              "│ dropout_8 (\u001b[38;5;33mDropout\u001b[0m)             │ (\u001b[38;5;45mNone\u001b[0m, \u001b[38;5;34m100\u001b[0m, \u001b[38;5;34m50\u001b[0m)        │             \u001b[38;5;34m0\u001b[0m │\n",
              "├─────────────────────────────────┼────────────────────────┼───────────────┤\n",
              "│ lstm_9 (\u001b[38;5;33mLSTM\u001b[0m)                   │ (\u001b[38;5;45mNone\u001b[0m, \u001b[38;5;34m100\u001b[0m, \u001b[38;5;34m60\u001b[0m)        │        \u001b[38;5;34m26,640\u001b[0m │\n",
              "├─────────────────────────────────┼────────────────────────┼───────────────┤\n",
              "│ dropout_9 (\u001b[38;5;33mDropout\u001b[0m)             │ (\u001b[38;5;45mNone\u001b[0m, \u001b[38;5;34m100\u001b[0m, \u001b[38;5;34m60\u001b[0m)        │             \u001b[38;5;34m0\u001b[0m │\n",
              "├─────────────────────────────────┼────────────────────────┼───────────────┤\n",
              "│ lstm_10 (\u001b[38;5;33mLSTM\u001b[0m)                  │ (\u001b[38;5;45mNone\u001b[0m, \u001b[38;5;34m100\u001b[0m, \u001b[38;5;34m80\u001b[0m)        │        \u001b[38;5;34m45,120\u001b[0m │\n",
              "├─────────────────────────────────┼────────────────────────┼───────────────┤\n",
              "│ dropout_10 (\u001b[38;5;33mDropout\u001b[0m)            │ (\u001b[38;5;45mNone\u001b[0m, \u001b[38;5;34m100\u001b[0m, \u001b[38;5;34m80\u001b[0m)        │             \u001b[38;5;34m0\u001b[0m │\n",
              "├─────────────────────────────────┼────────────────────────┼───────────────┤\n",
              "│ lstm_11 (\u001b[38;5;33mLSTM\u001b[0m)                  │ (\u001b[38;5;45mNone\u001b[0m, \u001b[38;5;34m120\u001b[0m)            │        \u001b[38;5;34m96,480\u001b[0m │\n",
              "├─────────────────────────────────┼────────────────────────┼───────────────┤\n",
              "│ dropout_11 (\u001b[38;5;33mDropout\u001b[0m)            │ (\u001b[38;5;45mNone\u001b[0m, \u001b[38;5;34m120\u001b[0m)            │             \u001b[38;5;34m0\u001b[0m │\n",
              "├─────────────────────────────────┼────────────────────────┼───────────────┤\n",
              "│ dense_2 (\u001b[38;5;33mDense\u001b[0m)                 │ (\u001b[38;5;45mNone\u001b[0m, \u001b[38;5;34m1\u001b[0m)              │           \u001b[38;5;34m121\u001b[0m │\n",
              "└─────────────────────────────────┴────────────────────────┴───────────────┘\n"
            ]
          },
          "metadata": {},
          "output_type": "display_data"
        },
        {
          "data": {
            "text/html": [
              "<pre style=\"white-space:pre;overflow-x:auto;line-height:normal;font-family:Menlo,'DejaVu Sans Mono',consolas,'Courier New',monospace\"><span style=\"font-weight: bold\"> Total params: </span><span style=\"color: #00af00; text-decoration-color: #00af00\">178,761</span> (698.29 KB)\n",
              "</pre>\n"
            ],
            "text/plain": [
              "\u001b[1m Total params: \u001b[0m\u001b[38;5;34m178,761\u001b[0m (698.29 KB)\n"
            ]
          },
          "metadata": {},
          "output_type": "display_data"
        },
        {
          "data": {
            "text/html": [
              "<pre style=\"white-space:pre;overflow-x:auto;line-height:normal;font-family:Menlo,'DejaVu Sans Mono',consolas,'Courier New',monospace\"><span style=\"font-weight: bold\"> Trainable params: </span><span style=\"color: #00af00; text-decoration-color: #00af00\">178,761</span> (698.29 KB)\n",
              "</pre>\n"
            ],
            "text/plain": [
              "\u001b[1m Trainable params: \u001b[0m\u001b[38;5;34m178,761\u001b[0m (698.29 KB)\n"
            ]
          },
          "metadata": {},
          "output_type": "display_data"
        },
        {
          "data": {
            "text/html": [
              "<pre style=\"white-space:pre;overflow-x:auto;line-height:normal;font-family:Menlo,'DejaVu Sans Mono',consolas,'Courier New',monospace\"><span style=\"font-weight: bold\"> Non-trainable params: </span><span style=\"color: #00af00; text-decoration-color: #00af00\">0</span> (0.00 B)\n",
              "</pre>\n"
            ],
            "text/plain": [
              "\u001b[1m Non-trainable params: \u001b[0m\u001b[38;5;34m0\u001b[0m (0.00 B)\n"
            ]
          },
          "metadata": {},
          "output_type": "display_data"
        }
      ],
      "source": [
        "model.summary()"
      ]
    },
    {
      "cell_type": "markdown",
      "id": "KgEnUfCnn_1r",
      "metadata": {
        "id": "KgEnUfCnn_1r"
      },
      "source": [
        "# Training the model\n",
        "\n",
        "---\n",
        "\n"
      ]
    },
    {
      "cell_type": "code",
      "execution_count": 73,
      "id": "1d0c9b64",
      "metadata": {
        "colab": {
          "base_uri": "https://localhost:8080/"
        },
        "id": "1d0c9b64",
        "outputId": "8014670b-4fcf-4fe9-d60a-786b45c8b88c",
        "scrolled": false
      },
      "outputs": [
        {
          "name": "stdout",
          "output_type": "stream",
          "text": [
            "Epoch 1/100\n",
            "\u001b[1m83/83\u001b[0m \u001b[32m━━━━━━━━━━━━━━━━━━━━\u001b[0m\u001b[37m\u001b[0m \u001b[1m13s\u001b[0m 113ms/step - loss: 0.0637 - mean_absolute_error: 0.1693\n",
            "Epoch 2/100\n",
            "\u001b[1m83/83\u001b[0m \u001b[32m━━━━━━━━━━━━━━━━━━━━\u001b[0m\u001b[37m\u001b[0m \u001b[1m9s\u001b[0m 107ms/step - loss: 0.0067 - mean_absolute_error: 0.0569\n",
            "Epoch 3/100\n",
            "\u001b[1m83/83\u001b[0m \u001b[32m━━━━━━━━━━━━━━━━━━━━\u001b[0m\u001b[37m\u001b[0m \u001b[1m11s\u001b[0m 130ms/step - loss: 0.0048 - mean_absolute_error: 0.0469\n",
            "Epoch 4/100\n",
            "\u001b[1m83/83\u001b[0m \u001b[32m━━━━━━━━━━━━━━━━━━━━\u001b[0m\u001b[37m\u001b[0m \u001b[1m11s\u001b[0m 129ms/step - loss: 0.0045 - mean_absolute_error: 0.0447\n",
            "Epoch 5/100\n",
            "\u001b[1m83/83\u001b[0m \u001b[32m━━━━━━━━━━━━━━━━━━━━\u001b[0m\u001b[37m\u001b[0m \u001b[1m9s\u001b[0m 111ms/step - loss: 0.0047 - mean_absolute_error: 0.0482\n",
            "Epoch 6/100\n",
            "\u001b[1m83/83\u001b[0m \u001b[32m━━━━━━━━━━━━━━━━━━━━\u001b[0m\u001b[37m\u001b[0m \u001b[1m10s\u001b[0m 118ms/step - loss: 0.0044 - mean_absolute_error: 0.0454\n",
            "Epoch 7/100\n",
            "\u001b[1m83/83\u001b[0m \u001b[32m━━━━━━━━━━━━━━━━━━━━\u001b[0m\u001b[37m\u001b[0m \u001b[1m9s\u001b[0m 105ms/step - loss: 0.0039 - mean_absolute_error: 0.0425\n",
            "Epoch 8/100\n",
            "\u001b[1m83/83\u001b[0m \u001b[32m━━━━━━━━━━━━━━━━━━━━\u001b[0m\u001b[37m\u001b[0m \u001b[1m10s\u001b[0m 117ms/step - loss: 0.0039 - mean_absolute_error: 0.0422\n",
            "Epoch 9/100\n",
            "\u001b[1m83/83\u001b[0m \u001b[32m━━━━━━━━━━━━━━━━━━━━\u001b[0m\u001b[37m\u001b[0m \u001b[1m9s\u001b[0m 106ms/step - loss: 0.0041 - mean_absolute_error: 0.0424\n",
            "Epoch 10/100\n",
            "\u001b[1m83/83\u001b[0m \u001b[32m━━━━━━━━━━━━━━━━━━━━\u001b[0m\u001b[37m\u001b[0m \u001b[1m9s\u001b[0m 103ms/step - loss: 0.0036 - mean_absolute_error: 0.0406\n",
            "Epoch 11/100\n",
            "\u001b[1m83/83\u001b[0m \u001b[32m━━━━━━━━━━━━━━━━━━━━\u001b[0m\u001b[37m\u001b[0m \u001b[1m9s\u001b[0m 106ms/step - loss: 0.0035 - mean_absolute_error: 0.0392\n",
            "Epoch 12/100\n",
            "\u001b[1m83/83\u001b[0m \u001b[32m━━━━━━━━━━━━━━━━━━━━\u001b[0m\u001b[37m\u001b[0m \u001b[1m9s\u001b[0m 109ms/step - loss: 0.0035 - mean_absolute_error: 0.0399\n",
            "Epoch 13/100\n",
            "\u001b[1m83/83\u001b[0m \u001b[32m━━━━━━━━━━━━━━━━━━━━\u001b[0m\u001b[37m\u001b[0m \u001b[1m9s\u001b[0m 104ms/step - loss: 0.0037 - mean_absolute_error: 0.0417\n",
            "Epoch 14/100\n",
            "\u001b[1m83/83\u001b[0m \u001b[32m━━━━━━━━━━━━━━━━━━━━\u001b[0m\u001b[37m\u001b[0m \u001b[1m10s\u001b[0m 114ms/step - loss: 0.0029 - mean_absolute_error: 0.0370\n",
            "Epoch 15/100\n",
            "\u001b[1m83/83\u001b[0m \u001b[32m━━━━━━━━━━━━━━━━━━━━\u001b[0m\u001b[37m\u001b[0m \u001b[1m10s\u001b[0m 121ms/step - loss: 0.0031 - mean_absolute_error: 0.0388\n",
            "Epoch 16/100\n",
            "\u001b[1m83/83\u001b[0m \u001b[32m━━━━━━━━━━━━━━━━━━━━\u001b[0m\u001b[37m\u001b[0m \u001b[1m43s\u001b[0m 526ms/step - loss: 0.0031 - mean_absolute_error: 0.0377\n",
            "Epoch 17/100\n",
            "\u001b[1m83/83\u001b[0m \u001b[32m━━━━━━━━━━━━━━━━━━━━\u001b[0m\u001b[37m\u001b[0m \u001b[1m57s\u001b[0m 217ms/step - loss: 0.0028 - mean_absolute_error: 0.0362\n",
            "Epoch 18/100\n",
            "\u001b[1m83/83\u001b[0m \u001b[32m━━━━━━━━━━━━━━━━━━━━\u001b[0m\u001b[37m\u001b[0m \u001b[1m10s\u001b[0m 115ms/step - loss: 0.0024 - mean_absolute_error: 0.0336\n",
            "Epoch 19/100\n",
            "\u001b[1m83/83\u001b[0m \u001b[32m━━━━━━━━━━━━━━━━━━━━\u001b[0m\u001b[37m\u001b[0m \u001b[1m10s\u001b[0m 120ms/step - loss: 0.0026 - mean_absolute_error: 0.0350\n",
            "Epoch 20/100\n",
            "\u001b[1m83/83\u001b[0m \u001b[32m━━━━━━━━━━━━━━━━━━━━\u001b[0m\u001b[37m\u001b[0m \u001b[1m31s\u001b[0m 379ms/step - loss: 0.0023 - mean_absolute_error: 0.0327\n",
            "Epoch 21/100\n",
            "\u001b[1m83/83\u001b[0m \u001b[32m━━━━━━━━━━━━━━━━━━━━\u001b[0m\u001b[37m\u001b[0m \u001b[1m40s\u001b[0m 486ms/step - loss: 0.0025 - mean_absolute_error: 0.0351\n",
            "Epoch 22/100\n",
            "\u001b[1m83/83\u001b[0m \u001b[32m━━━━━━━━━━━━━━━━━━━━\u001b[0m\u001b[37m\u001b[0m \u001b[1m38s\u001b[0m 453ms/step - loss: 0.0028 - mean_absolute_error: 0.0366\n",
            "Epoch 23/100\n",
            "\u001b[1m83/83\u001b[0m \u001b[32m━━━━━━━━━━━━━━━━━━━━\u001b[0m\u001b[37m\u001b[0m \u001b[1m42s\u001b[0m 502ms/step - loss: 0.0023 - mean_absolute_error: 0.0342\n",
            "Epoch 24/100\n",
            "\u001b[1m83/83\u001b[0m \u001b[32m━━━━━━━━━━━━━━━━━━━━\u001b[0m\u001b[37m\u001b[0m \u001b[1m70s\u001b[0m 356ms/step - loss: 0.0024 - mean_absolute_error: 0.0344\n",
            "Epoch 25/100\n",
            "\u001b[1m83/83\u001b[0m \u001b[32m━━━━━━━━━━━━━━━━━━━━\u001b[0m\u001b[37m\u001b[0m \u001b[1m10s\u001b[0m 124ms/step - loss: 0.0029 - mean_absolute_error: 0.0366\n",
            "Epoch 26/100\n",
            "\u001b[1m83/83\u001b[0m \u001b[32m━━━━━━━━━━━━━━━━━━━━\u001b[0m\u001b[37m\u001b[0m \u001b[1m15s\u001b[0m 177ms/step - loss: 0.0025 - mean_absolute_error: 0.0341\n",
            "Epoch 27/100\n",
            "\u001b[1m83/83\u001b[0m \u001b[32m━━━━━━━━━━━━━━━━━━━━\u001b[0m\u001b[37m\u001b[0m \u001b[1m9s\u001b[0m 104ms/step - loss: 0.0024 - mean_absolute_error: 0.0337\n",
            "Epoch 28/100\n",
            "\u001b[1m83/83\u001b[0m \u001b[32m━━━━━━━━━━━━━━━━━━━━\u001b[0m\u001b[37m\u001b[0m \u001b[1m9s\u001b[0m 108ms/step - loss: 0.0024 - mean_absolute_error: 0.0341\n",
            "Epoch 29/100\n",
            "\u001b[1m83/83\u001b[0m \u001b[32m━━━━━━━━━━━━━━━━━━━━\u001b[0m\u001b[37m\u001b[0m \u001b[1m9s\u001b[0m 110ms/step - loss: 0.0023 - mean_absolute_error: 0.0348\n",
            "Epoch 30/100\n",
            "\u001b[1m83/83\u001b[0m \u001b[32m━━━━━━━━━━━━━━━━━━━━\u001b[0m\u001b[37m\u001b[0m \u001b[1m9s\u001b[0m 110ms/step - loss: 0.0023 - mean_absolute_error: 0.0337\n",
            "Epoch 31/100\n",
            "\u001b[1m83/83\u001b[0m \u001b[32m━━━━━━━━━━━━━━━━━━━━\u001b[0m\u001b[37m\u001b[0m \u001b[1m9s\u001b[0m 114ms/step - loss: 0.0021 - mean_absolute_error: 0.0323\n",
            "Epoch 32/100\n",
            "\u001b[1m83/83\u001b[0m \u001b[32m━━━━━━━━━━━━━━━━━━━━\u001b[0m\u001b[37m\u001b[0m \u001b[1m9s\u001b[0m 111ms/step - loss: 0.0021 - mean_absolute_error: 0.0329\n",
            "Epoch 33/100\n",
            "\u001b[1m83/83\u001b[0m \u001b[32m━━━━━━━━━━━━━━━━━━━━\u001b[0m\u001b[37m\u001b[0m \u001b[1m9s\u001b[0m 105ms/step - loss: 0.0021 - mean_absolute_error: 0.0326\n",
            "Epoch 34/100\n",
            "\u001b[1m83/83\u001b[0m \u001b[32m━━━━━━━━━━━━━━━━━━━━\u001b[0m\u001b[37m\u001b[0m \u001b[1m11s\u001b[0m 132ms/step - loss: 0.0022 - mean_absolute_error: 0.0340\n",
            "Epoch 35/100\n",
            "\u001b[1m83/83\u001b[0m \u001b[32m━━━━━━━━━━━━━━━━━━━━\u001b[0m\u001b[37m\u001b[0m \u001b[1m11s\u001b[0m 131ms/step - loss: 0.0022 - mean_absolute_error: 0.0327\n",
            "Epoch 36/100\n",
            "\u001b[1m83/83\u001b[0m \u001b[32m━━━━━━━━━━━━━━━━━━━━\u001b[0m\u001b[37m\u001b[0m \u001b[1m10s\u001b[0m 116ms/step - loss: 0.0020 - mean_absolute_error: 0.0325\n",
            "Epoch 37/100\n",
            "\u001b[1m83/83\u001b[0m \u001b[32m━━━━━━━━━━━━━━━━━━━━\u001b[0m\u001b[37m\u001b[0m \u001b[1m9s\u001b[0m 105ms/step - loss: 0.0021 - mean_absolute_error: 0.0325\n",
            "Epoch 38/100\n",
            "\u001b[1m83/83\u001b[0m \u001b[32m━━━━━━━━━━━━━━━━━━━━\u001b[0m\u001b[37m\u001b[0m \u001b[1m9s\u001b[0m 113ms/step - loss: 0.0028 - mean_absolute_error: 0.0374\n",
            "Epoch 39/100\n",
            "\u001b[1m83/83\u001b[0m \u001b[32m━━━━━━━━━━━━━━━━━━━━\u001b[0m\u001b[37m\u001b[0m \u001b[1m9s\u001b[0m 109ms/step - loss: 0.0019 - mean_absolute_error: 0.0312\n",
            "Epoch 40/100\n",
            "\u001b[1m83/83\u001b[0m \u001b[32m━━━━━━━━━━━━━━━━━━━━\u001b[0m\u001b[37m\u001b[0m \u001b[1m9s\u001b[0m 102ms/step - loss: 0.0024 - mean_absolute_error: 0.0355\n",
            "Epoch 41/100\n",
            "\u001b[1m83/83\u001b[0m \u001b[32m━━━━━━━━━━━━━━━━━━━━\u001b[0m\u001b[37m\u001b[0m \u001b[1m8s\u001b[0m 101ms/step - loss: 0.0023 - mean_absolute_error: 0.0337\n",
            "Epoch 42/100\n",
            "\u001b[1m83/83\u001b[0m \u001b[32m━━━━━━━━━━━━━━━━━━━━\u001b[0m\u001b[37m\u001b[0m \u001b[1m9s\u001b[0m 108ms/step - loss: 0.0024 - mean_absolute_error: 0.0356\n",
            "Epoch 43/100\n",
            "\u001b[1m83/83\u001b[0m \u001b[32m━━━━━━━━━━━━━━━━━━━━\u001b[0m\u001b[37m\u001b[0m \u001b[1m10s\u001b[0m 115ms/step - loss: 0.0022 - mean_absolute_error: 0.0335\n",
            "Epoch 44/100\n",
            "\u001b[1m83/83\u001b[0m \u001b[32m━━━━━━━━━━━━━━━━━━━━\u001b[0m\u001b[37m\u001b[0m \u001b[1m8s\u001b[0m 100ms/step - loss: 0.0024 - mean_absolute_error: 0.0361\n",
            "Epoch 45/100\n",
            "\u001b[1m83/83\u001b[0m \u001b[32m━━━━━━━━━━━━━━━━━━━━\u001b[0m\u001b[37m\u001b[0m \u001b[1m8s\u001b[0m 101ms/step - loss: 0.0022 - mean_absolute_error: 0.0328\n",
            "Epoch 46/100\n",
            "\u001b[1m83/83\u001b[0m \u001b[32m━━━━━━━━━━━━━━━━━━━━\u001b[0m\u001b[37m\u001b[0m \u001b[1m9s\u001b[0m 110ms/step - loss: 0.0022 - mean_absolute_error: 0.0329\n",
            "Epoch 47/100\n",
            "\u001b[1m83/83\u001b[0m \u001b[32m━━━━━━━━━━━━━━━━━━━━\u001b[0m\u001b[37m\u001b[0m \u001b[1m9s\u001b[0m 105ms/step - loss: 0.0021 - mean_absolute_error: 0.0334\n",
            "Epoch 48/100\n",
            "\u001b[1m83/83\u001b[0m \u001b[32m━━━━━━━━━━━━━━━━━━━━\u001b[0m\u001b[37m\u001b[0m \u001b[1m8s\u001b[0m 102ms/step - loss: 0.0022 - mean_absolute_error: 0.0340\n",
            "Epoch 49/100\n",
            "\u001b[1m83/83\u001b[0m \u001b[32m━━━━━━━━━━━━━━━━━━━━\u001b[0m\u001b[37m\u001b[0m \u001b[1m8s\u001b[0m 98ms/step - loss: 0.0019 - mean_absolute_error: 0.0323\n",
            "Epoch 50/100\n",
            "\u001b[1m83/83\u001b[0m \u001b[32m━━━━━━━━━━━━━━━━━━━━\u001b[0m\u001b[37m\u001b[0m \u001b[1m9s\u001b[0m 108ms/step - loss: 0.0020 - mean_absolute_error: 0.0326\n",
            "Epoch 51/100\n",
            "\u001b[1m83/83\u001b[0m \u001b[32m━━━━━━━━━━━━━━━━━━━━\u001b[0m\u001b[37m\u001b[0m \u001b[1m9s\u001b[0m 106ms/step - loss: 0.0021 - mean_absolute_error: 0.0343\n",
            "Epoch 52/100\n",
            "\u001b[1m83/83\u001b[0m \u001b[32m━━━━━━━━━━━━━━━━━━━━\u001b[0m\u001b[37m\u001b[0m \u001b[1m9s\u001b[0m 105ms/step - loss: 0.0026 - mean_absolute_error: 0.0376\n",
            "Epoch 53/100\n",
            "\u001b[1m83/83\u001b[0m \u001b[32m━━━━━━━━━━━━━━━━━━━━\u001b[0m\u001b[37m\u001b[0m \u001b[1m10s\u001b[0m 116ms/step - loss: 0.0021 - mean_absolute_error: 0.0338\n",
            "Epoch 54/100\n",
            "\u001b[1m83/83\u001b[0m \u001b[32m━━━━━━━━━━━━━━━━━━━━\u001b[0m\u001b[37m\u001b[0m \u001b[1m9s\u001b[0m 110ms/step - loss: 0.0019 - mean_absolute_error: 0.0310\n",
            "Epoch 55/100\n",
            "\u001b[1m83/83\u001b[0m \u001b[32m━━━━━━━━━━━━━━━━━━━━\u001b[0m\u001b[37m\u001b[0m \u001b[1m9s\u001b[0m 104ms/step - loss: 0.0020 - mean_absolute_error: 0.0326\n",
            "Epoch 56/100\n",
            "\u001b[1m83/83\u001b[0m \u001b[32m━━━━━━━━━━━━━━━━━━━━\u001b[0m\u001b[37m\u001b[0m \u001b[1m9s\u001b[0m 104ms/step - loss: 0.0020 - mean_absolute_error: 0.0324\n",
            "Epoch 57/100\n",
            "\u001b[1m83/83\u001b[0m \u001b[32m━━━━━━━━━━━━━━━━━━━━\u001b[0m\u001b[37m\u001b[0m \u001b[1m9s\u001b[0m 105ms/step - loss: 0.0022 - mean_absolute_error: 0.0335\n",
            "Epoch 58/100\n",
            "\u001b[1m83/83\u001b[0m \u001b[32m━━━━━━━━━━━━━━━━━━━━\u001b[0m\u001b[37m\u001b[0m \u001b[1m9s\u001b[0m 107ms/step - loss: 0.0020 - mean_absolute_error: 0.0327\n",
            "Epoch 59/100\n",
            "\u001b[1m83/83\u001b[0m \u001b[32m━━━━━━━━━━━━━━━━━━━━\u001b[0m\u001b[37m\u001b[0m \u001b[1m8s\u001b[0m 102ms/step - loss: 0.0020 - mean_absolute_error: 0.0321\n",
            "Epoch 60/100\n",
            "\u001b[1m83/83\u001b[0m \u001b[32m━━━━━━━━━━━━━━━━━━━━\u001b[0m\u001b[37m\u001b[0m \u001b[1m9s\u001b[0m 103ms/step - loss: 0.0019 - mean_absolute_error: 0.0321\n",
            "Epoch 61/100\n",
            "\u001b[1m83/83\u001b[0m \u001b[32m━━━━━━━━━━━━━━━━━━━━\u001b[0m\u001b[37m\u001b[0m \u001b[1m9s\u001b[0m 105ms/step - loss: 0.0022 - mean_absolute_error: 0.0341\n",
            "Epoch 62/100\n",
            "\u001b[1m83/83\u001b[0m \u001b[32m━━━━━━━━━━━━━━━━━━━━\u001b[0m\u001b[37m\u001b[0m \u001b[1m24s\u001b[0m 291ms/step - loss: 0.0024 - mean_absolute_error: 0.0353\n",
            "Epoch 63/100\n",
            "\u001b[1m83/83\u001b[0m \u001b[32m━━━━━━━━━━━━━━━━━━━━\u001b[0m\u001b[37m\u001b[0m \u001b[1m39s\u001b[0m 465ms/step - loss: 0.0018 - mean_absolute_error: 0.0312\n",
            "Epoch 64/100\n",
            "\u001b[1m83/83\u001b[0m \u001b[32m━━━━━━━━━━━━━━━━━━━━\u001b[0m\u001b[37m\u001b[0m \u001b[1m6s\u001b[0m 68ms/step - loss: 0.0022 - mean_absolute_error: 0.0340\n",
            "Epoch 65/100\n",
            "\u001b[1m83/83\u001b[0m \u001b[32m━━━━━━━━━━━━━━━━━━━━\u001b[0m\u001b[37m\u001b[0m \u001b[1m6s\u001b[0m 73ms/step - loss: 0.0023 - mean_absolute_error: 0.0356\n",
            "Epoch 66/100\n",
            "\u001b[1m83/83\u001b[0m \u001b[32m━━━━━━━━━━━━━━━━━━━━\u001b[0m\u001b[37m\u001b[0m \u001b[1m7s\u001b[0m 80ms/step - loss: 0.0019 - mean_absolute_error: 0.0322\n",
            "Epoch 67/100\n",
            "\u001b[1m83/83\u001b[0m \u001b[32m━━━━━━━━━━━━━━━━━━━━\u001b[0m\u001b[37m\u001b[0m \u001b[1m7s\u001b[0m 80ms/step - loss: 0.0019 - mean_absolute_error: 0.0325\n",
            "Epoch 68/100\n",
            "\u001b[1m83/83\u001b[0m \u001b[32m━━━━━━━━━━━━━━━━━━━━\u001b[0m\u001b[37m\u001b[0m \u001b[1m6s\u001b[0m 73ms/step - loss: 0.0020 - mean_absolute_error: 0.0329\n",
            "Epoch 69/100\n",
            "\u001b[1m83/83\u001b[0m \u001b[32m━━━━━━━━━━━━━━━━━━━━\u001b[0m\u001b[37m\u001b[0m \u001b[1m6s\u001b[0m 75ms/step - loss: 0.0019 - mean_absolute_error: 0.0311\n",
            "Epoch 70/100\n",
            "\u001b[1m83/83\u001b[0m \u001b[32m━━━━━━━━━━━━━━━━━━━━\u001b[0m\u001b[37m\u001b[0m \u001b[1m6s\u001b[0m 74ms/step - loss: 0.0020 - mean_absolute_error: 0.0336\n",
            "Epoch 71/100\n",
            "\u001b[1m83/83\u001b[0m \u001b[32m━━━━━━━━━━━━━━━━━━━━\u001b[0m\u001b[37m\u001b[0m \u001b[1m6s\u001b[0m 75ms/step - loss: 0.0020 - mean_absolute_error: 0.0324\n",
            "Epoch 72/100\n",
            "\u001b[1m83/83\u001b[0m \u001b[32m━━━━━━━━━━━━━━━━━━━━\u001b[0m\u001b[37m\u001b[0m \u001b[1m6s\u001b[0m 75ms/step - loss: 0.0021 - mean_absolute_error: 0.0333\n",
            "Epoch 73/100\n",
            "\u001b[1m83/83\u001b[0m \u001b[32m━━━━━━━━━━━━━━━━━━━━\u001b[0m\u001b[37m\u001b[0m \u001b[1m6s\u001b[0m 74ms/step - loss: 0.0021 - mean_absolute_error: 0.0330\n",
            "Epoch 74/100\n",
            "\u001b[1m83/83\u001b[0m \u001b[32m━━━━━━━━━━━━━━━━━━━━\u001b[0m\u001b[37m\u001b[0m \u001b[1m6s\u001b[0m 75ms/step - loss: 0.0020 - mean_absolute_error: 0.0329\n",
            "Epoch 75/100\n",
            "\u001b[1m83/83\u001b[0m \u001b[32m━━━━━━━━━━━━━━━━━━━━\u001b[0m\u001b[37m\u001b[0m \u001b[1m6s\u001b[0m 71ms/step - loss: 0.0023 - mean_absolute_error: 0.0349\n",
            "Epoch 76/100\n",
            "\u001b[1m83/83\u001b[0m \u001b[32m━━━━━━━━━━━━━━━━━━━━\u001b[0m\u001b[37m\u001b[0m \u001b[1m6s\u001b[0m 69ms/step - loss: 0.0021 - mean_absolute_error: 0.0332\n",
            "Epoch 77/100\n",
            "\u001b[1m83/83\u001b[0m \u001b[32m━━━━━━━━━━━━━━━━━━━━\u001b[0m\u001b[37m\u001b[0m \u001b[1m6s\u001b[0m 69ms/step - loss: 0.0019 - mean_absolute_error: 0.0315\n",
            "Epoch 78/100\n",
            "\u001b[1m83/83\u001b[0m \u001b[32m━━━━━━━━━━━━━━━━━━━━\u001b[0m\u001b[37m\u001b[0m \u001b[1m6s\u001b[0m 73ms/step - loss: 0.0020 - mean_absolute_error: 0.0322\n",
            "Epoch 79/100\n",
            "\u001b[1m83/83\u001b[0m \u001b[32m━━━━━━━━━━━━━━━━━━━━\u001b[0m\u001b[37m\u001b[0m \u001b[1m6s\u001b[0m 75ms/step - loss: 0.0020 - mean_absolute_error: 0.0324\n",
            "Epoch 80/100\n",
            "\u001b[1m83/83\u001b[0m \u001b[32m━━━━━━━━━━━━━━━━━━━━\u001b[0m\u001b[37m\u001b[0m \u001b[1m6s\u001b[0m 71ms/step - loss: 0.0018 - mean_absolute_error: 0.0315\n",
            "Epoch 81/100\n",
            "\u001b[1m83/83\u001b[0m \u001b[32m━━━━━━━━━━━━━━━━━━━━\u001b[0m\u001b[37m\u001b[0m \u001b[1m6s\u001b[0m 67ms/step - loss: 0.0018 - mean_absolute_error: 0.0315\n",
            "Epoch 82/100\n",
            "\u001b[1m83/83\u001b[0m \u001b[32m━━━━━━━━━━━━━━━━━━━━\u001b[0m\u001b[37m\u001b[0m \u001b[1m5s\u001b[0m 64ms/step - loss: 0.0017 - mean_absolute_error: 0.0306\n",
            "Epoch 83/100\n",
            "\u001b[1m83/83\u001b[0m \u001b[32m━━━━━━━━━━━━━━━━━━━━\u001b[0m\u001b[37m\u001b[0m \u001b[1m6s\u001b[0m 67ms/step - loss: 0.0018 - mean_absolute_error: 0.0309\n",
            "Epoch 84/100\n",
            "\u001b[1m83/83\u001b[0m \u001b[32m━━━━━━━━━━━━━━━━━━━━\u001b[0m\u001b[37m\u001b[0m \u001b[1m6s\u001b[0m 66ms/step - loss: 0.0018 - mean_absolute_error: 0.0311\n",
            "Epoch 85/100\n",
            "\u001b[1m83/83\u001b[0m \u001b[32m━━━━━━━━━━━━━━━━━━━━\u001b[0m\u001b[37m\u001b[0m \u001b[1m6s\u001b[0m 67ms/step - loss: 0.0018 - mean_absolute_error: 0.0308\n",
            "Epoch 86/100\n",
            "\u001b[1m83/83\u001b[0m \u001b[32m━━━━━━━━━━━━━━━━━━━━\u001b[0m\u001b[37m\u001b[0m \u001b[1m6s\u001b[0m 67ms/step - loss: 0.0018 - mean_absolute_error: 0.0304\n",
            "Epoch 87/100\n",
            "\u001b[1m83/83\u001b[0m \u001b[32m━━━━━━━━━━━━━━━━━━━━\u001b[0m\u001b[37m\u001b[0m \u001b[1m6s\u001b[0m 66ms/step - loss: 0.0020 - mean_absolute_error: 0.0330\n",
            "Epoch 88/100\n",
            "\u001b[1m83/83\u001b[0m \u001b[32m━━━━━━━━━━━━━━━━━━━━\u001b[0m\u001b[37m\u001b[0m \u001b[1m6s\u001b[0m 67ms/step - loss: 0.0018 - mean_absolute_error: 0.0315\n",
            "Epoch 89/100\n",
            "\u001b[1m83/83\u001b[0m \u001b[32m━━━━━━━━━━━━━━━━━━━━\u001b[0m\u001b[37m\u001b[0m \u001b[1m6s\u001b[0m 67ms/step - loss: 0.0018 - mean_absolute_error: 0.0305\n",
            "Epoch 90/100\n",
            "\u001b[1m83/83\u001b[0m \u001b[32m━━━━━━━━━━━━━━━━━━━━\u001b[0m\u001b[37m\u001b[0m \u001b[1m5s\u001b[0m 66ms/step - loss: 0.0019 - mean_absolute_error: 0.0323\n",
            "Epoch 91/100\n",
            "\u001b[1m83/83\u001b[0m \u001b[32m━━━━━━━━━━━━━━━━━━━━\u001b[0m\u001b[37m\u001b[0m \u001b[1m6s\u001b[0m 68ms/step - loss: 0.0019 - mean_absolute_error: 0.0317\n",
            "Epoch 92/100\n",
            "\u001b[1m83/83\u001b[0m \u001b[32m━━━━━━━━━━━━━━━━━━━━\u001b[0m\u001b[37m\u001b[0m \u001b[1m5s\u001b[0m 66ms/step - loss: 0.0018 - mean_absolute_error: 0.0305\n",
            "Epoch 93/100\n",
            "\u001b[1m83/83\u001b[0m \u001b[32m━━━━━━━━━━━━━━━━━━━━\u001b[0m\u001b[37m\u001b[0m \u001b[1m5s\u001b[0m 65ms/step - loss: 0.0017 - mean_absolute_error: 0.0306\n",
            "Epoch 94/100\n",
            "\u001b[1m83/83\u001b[0m \u001b[32m━━━━━━━━━━━━━━━━━━━━\u001b[0m\u001b[37m\u001b[0m \u001b[1m6s\u001b[0m 69ms/step - loss: 0.0019 - mean_absolute_error: 0.0316\n",
            "Epoch 95/100\n",
            "\u001b[1m83/83\u001b[0m \u001b[32m━━━━━━━━━━━━━━━━━━━━\u001b[0m\u001b[37m\u001b[0m \u001b[1m6s\u001b[0m 67ms/step - loss: 0.0018 - mean_absolute_error: 0.0317\n",
            "Epoch 96/100\n",
            "\u001b[1m83/83\u001b[0m \u001b[32m━━━━━━━━━━━━━━━━━━━━\u001b[0m\u001b[37m\u001b[0m \u001b[1m5s\u001b[0m 65ms/step - loss: 0.0018 - mean_absolute_error: 0.0317\n",
            "Epoch 97/100\n",
            "\u001b[1m83/83\u001b[0m \u001b[32m━━━━━━━━━━━━━━━━━━━━\u001b[0m\u001b[37m\u001b[0m \u001b[1m6s\u001b[0m 67ms/step - loss: 0.0018 - mean_absolute_error: 0.0308\n",
            "Epoch 98/100\n",
            "\u001b[1m83/83\u001b[0m \u001b[32m━━━━━━━━━━━━━━━━━━━━\u001b[0m\u001b[37m\u001b[0m \u001b[1m6s\u001b[0m 66ms/step - loss: 0.0018 - mean_absolute_error: 0.0309\n",
            "Epoch 99/100\n",
            "\u001b[1m83/83\u001b[0m \u001b[32m━━━━━━━━━━━━━━━━━━━━\u001b[0m\u001b[37m\u001b[0m \u001b[1m5s\u001b[0m 65ms/step - loss: 0.0017 - mean_absolute_error: 0.0307\n",
            "Epoch 100/100\n",
            "\u001b[1m83/83\u001b[0m \u001b[32m━━━━━━━━━━━━━━━━━━━━\u001b[0m\u001b[37m\u001b[0m \u001b[1m5s\u001b[0m 65ms/step - loss: 0.0017 - mean_absolute_error: 0.0299\n"
          ]
        },
        {
          "data": {
            "text/plain": [
              "<keras.src.callbacks.history.History at 0x2019473f150>"
            ]
          },
          "execution_count": 73,
          "metadata": {},
          "output_type": "execute_result"
        }
      ],
      "source": [
        "import tensorflow as tf\n",
        "model.compile(optimizer = 'adam', loss = 'mean_squared_error', metrics=[tf.keras.metrics.MeanAbsoluteError()])\n",
        "model.fit(x_train, y_train,epochs = 100)"
      ]
    },
    {
      "cell_type": "code",
      "execution_count": 79,
      "id": "zG1W6DhzI-hP",
      "metadata": {
        "id": "zG1W6DhzI-hP"
      },
      "outputs": [],
      "source": [
        "model.save_weights('keras_model.weights.h5')\n",
        "\n"
      ]
    },
    {
      "cell_type": "code",
      "execution_count": 80,
      "id": "khcKI1sSJSJB",
      "metadata": {
        "colab": {
          "base_uri": "https://localhost:8080/"
        },
        "id": "khcKI1sSJSJB",
        "outputId": "22c3f1bf-201a-4a60-ec6f-3be005f87ab1"
      },
      "outputs": [
        {
          "data": {
            "text/plain": [
              "(1169, 1)"
            ]
          },
          "execution_count": 80,
          "metadata": {},
          "output_type": "execute_result"
        }
      ],
      "source": [
        "test_close.shape"
      ]
    },
    {
      "cell_type": "code",
      "execution_count": 81,
      "id": "6QyF-7KbKaGt",
      "metadata": {
        "id": "6QyF-7KbKaGt"
      },
      "outputs": [],
      "source": [
        "past_100_days = pd.DataFrame(train_close[-100:])"
      ]
    },
    {
      "cell_type": "code",
      "execution_count": 82,
      "id": "pKsjLCyGLuOz",
      "metadata": {
        "id": "pKsjLCyGLuOz"
      },
      "outputs": [],
      "source": [
        "test_df = pd.DataFrame(test_close)"
      ]
    },
    {
      "cell_type": "markdown",
      "id": "d9ZKAzB8oKXJ",
      "metadata": {
        "id": "d9ZKAzB8oKXJ"
      },
      "source": [
        "**Defining the final dataset for testing by including last 100 coloums of the training dataset to get the prediction from the 1st column of the testing dataset.**\n",
        "\n",
        "---\n"
      ]
    },
    {
      "cell_type": "code",
      "execution_count": 83,
      "id": "UUapqTcVLOj-",
      "metadata": {
        "colab": {
          "base_uri": "https://localhost:8080/"
        },
        "id": "UUapqTcVLOj-",
        "outputId": "0b06f215-d627-419d-8e78-461a857ccf4d"
      },
      "outputs": [],
      "source": [
        "final_df = pd.concat([past_100_days, test_df], ignore_index=True)"
      ]
    },
    {
      "cell_type": "code",
      "execution_count": 84,
      "id": "L5gFYc1hMRjS",
      "metadata": {
        "colab": {
          "base_uri": "https://localhost:8080/",
          "height": 206
        },
        "id": "L5gFYc1hMRjS",
        "outputId": "200e81cd-e7d8-4d77-d727-6d5918b2e074"
      },
      "outputs": [
        {
          "data": {
            "text/html": [
              "<div>\n",
              "<style scoped>\n",
              "    .dataframe tbody tr th:only-of-type {\n",
              "        vertical-align: middle;\n",
              "    }\n",
              "\n",
              "    .dataframe tbody tr th {\n",
              "        vertical-align: top;\n",
              "    }\n",
              "\n",
              "    .dataframe thead th {\n",
              "        text-align: right;\n",
              "    }\n",
              "</style>\n",
              "<table border=\"1\" class=\"dataframe\">\n",
              "  <thead>\n",
              "    <tr style=\"text-align: right;\">\n",
              "      <th></th>\n",
              "      <th>0</th>\n",
              "    </tr>\n",
              "  </thead>\n",
              "  <tbody>\n",
              "    <tr>\n",
              "      <th>0</th>\n",
              "      <td>72.545772</td>\n",
              "    </tr>\n",
              "    <tr>\n",
              "      <th>1</th>\n",
              "      <td>71.697812</td>\n",
              "    </tr>\n",
              "    <tr>\n",
              "      <th>2</th>\n",
              "      <td>71.002450</td>\n",
              "    </tr>\n",
              "    <tr>\n",
              "      <th>3</th>\n",
              "      <td>69.129089</td>\n",
              "    </tr>\n",
              "    <tr>\n",
              "      <th>4</th>\n",
              "      <td>71.834001</td>\n",
              "    </tr>\n",
              "  </tbody>\n",
              "</table>\n",
              "</div>"
            ],
            "text/plain": [
              "           0\n",
              "0  72.545772\n",
              "1  71.697812\n",
              "2  71.002450\n",
              "3  69.129089\n",
              "4  71.834001"
            ]
          },
          "execution_count": 84,
          "metadata": {},
          "output_type": "execute_result"
        }
      ],
      "source": [
        "final_df.head()"
      ]
    },
    {
      "cell_type": "code",
      "execution_count": 85,
      "id": "BU7BPmzvMZpZ",
      "metadata": {
        "colab": {
          "base_uri": "https://localhost:8080/"
        },
        "id": "BU7BPmzvMZpZ",
        "outputId": "385dad96-22ef-4fe8-8aea-0a5ce1a7f6a6"
      },
      "outputs": [
        {
          "data": {
            "text/plain": [
              "array([[0.03690489],\n",
              "       [0.03069338],\n",
              "       [0.02559969],\n",
              "       ...,\n",
              "       [0.74089128],\n",
              "       [0.77557629],\n",
              "       [0.78469629]])"
            ]
          },
          "execution_count": 85,
          "metadata": {},
          "output_type": "execute_result"
        }
      ],
      "source": [
        "input_data = scaler.fit_transform(final_df)\n",
        "input_data"
      ]
    },
    {
      "cell_type": "code",
      "execution_count": 86,
      "id": "2E6k84TtMpvD",
      "metadata": {
        "colab": {
          "base_uri": "https://localhost:8080/"
        },
        "id": "2E6k84TtMpvD",
        "outputId": "06c0a3bb-bb78-49f3-d233-4ef1922d7a30"
      },
      "outputs": [
        {
          "data": {
            "text/plain": [
              "(1269, 1)"
            ]
          },
          "execution_count": 86,
          "metadata": {},
          "output_type": "execute_result"
        }
      ],
      "source": [
        "input_data.shape"
      ]
    },
    {
      "cell_type": "markdown",
      "id": "hJzkNc_To9li",
      "metadata": {
        "id": "hJzkNc_To9li"
      },
      "source": [
        "# Testing the model\n",
        "\n",
        "---\n",
        "\n"
      ]
    },
    {
      "cell_type": "code",
      "execution_count": 87,
      "id": "d9xCof1CMwwh",
      "metadata": {
        "id": "d9xCof1CMwwh"
      },
      "outputs": [],
      "source": [
        "x_test = []\n",
        "y_test = []\n",
        "for i in range(100, input_data.shape[0]):\n",
        "   x_test.append(input_data[i-100: i])\n",
        "   y_test.append(input_data[i, 0])"
      ]
    },
    {
      "cell_type": "code",
      "execution_count": 88,
      "id": "6MGDYZvrNUYc",
      "metadata": {
        "colab": {
          "base_uri": "https://localhost:8080/"
        },
        "id": "6MGDYZvrNUYc",
        "outputId": "4c699113-12cb-4065-b162-29e1761b96a4"
      },
      "outputs": [
        {
          "name": "stdout",
          "output_type": "stream",
          "text": [
            "(1169, 100, 1)\n",
            "(1169,)\n"
          ]
        }
      ],
      "source": [
        "x_test, y_test = np.array(x_test), np.array(y_test)\n",
        "print(x_test.shape)\n",
        "print(y_test.shape)"
      ]
    },
    {
      "cell_type": "markdown",
      "id": "PjvHSsrYpFBG",
      "metadata": {
        "id": "PjvHSsrYpFBG"
      },
      "source": [
        "# Making prediction and plotting the graph of predicted vs actual values\n",
        "\n",
        "---\n",
        "\n"
      ]
    },
    {
      "cell_type": "code",
      "execution_count": 89,
      "id": "GLMExu7NNdmA",
      "metadata": {
        "colab": {
          "base_uri": "https://localhost:8080/"
        },
        "id": "GLMExu7NNdmA",
        "outputId": "e415e6ce-3846-4044-e1a3-a1f7b17e10e0"
      },
      "outputs": [
        {
          "name": "stdout",
          "output_type": "stream",
          "text": [
            "\u001b[1m37/37\u001b[0m \u001b[32m━━━━━━━━━━━━━━━━━━━━\u001b[0m\u001b[37m\u001b[0m \u001b[1m1s\u001b[0m 34ms/step\n"
          ]
        }
      ],
      "source": [
        "# Making predictions\n",
        "\n",
        "y_pred = model.predict(x_test)"
      ]
    },
    {
      "cell_type": "code",
      "execution_count": 90,
      "id": "wAmVS__yNu-A",
      "metadata": {
        "colab": {
          "base_uri": "https://localhost:8080/"
        },
        "id": "wAmVS__yNu-A",
        "outputId": "a7d117ba-f92d-4be6-d813-47147ab5cd1c"
      },
      "outputs": [
        {
          "data": {
            "text/plain": [
              "(1169, 1)"
            ]
          },
          "execution_count": 90,
          "metadata": {},
          "output_type": "execute_result"
        }
      ],
      "source": [
        "y_pred.shape"
      ]
    },
    {
      "cell_type": "code",
      "execution_count": 91,
      "id": "HFhTH-1aNyqt",
      "metadata": {
        "colab": {
          "base_uri": "https://localhost:8080/"
        },
        "id": "HFhTH-1aNyqt",
        "outputId": "0e288060-20c6-46e6-bae7-93bb208f67ec"
      },
      "outputs": [
        {
          "data": {
            "text/plain": [
              "array([0.11430118, 0.09829904, 0.09961709, ..., 0.74089128, 0.77557629,\n",
              "       0.78469629])"
            ]
          },
          "execution_count": 91,
          "metadata": {},
          "output_type": "execute_result"
        }
      ],
      "source": [
        "y_test"
      ]
    },
    {
      "cell_type": "code",
      "execution_count": 92,
      "id": "WDIHSvbHN1vk",
      "metadata": {
        "colab": {
          "base_uri": "https://localhost:8080/"
        },
        "id": "WDIHSvbHN1vk",
        "outputId": "7f0459a8-b46e-4383-bd33-1af9f49a0211"
      },
      "outputs": [
        {
          "data": {
            "text/plain": [
              "array([[0.12269001],\n",
              "       [0.12484556],\n",
              "       [0.12696132],\n",
              "       ...,\n",
              "       [0.81265473],\n",
              "       [0.79975075],\n",
              "       [0.78749883]], dtype=float32)"
            ]
          },
          "execution_count": 92,
          "metadata": {},
          "output_type": "execute_result"
        }
      ],
      "source": [
        "y_pred"
      ]
    },
    {
      "cell_type": "code",
      "execution_count": 93,
      "id": "QMFgAgL5N6HX",
      "metadata": {
        "colab": {
          "base_uri": "https://localhost:8080/"
        },
        "id": "QMFgAgL5N6HX",
        "outputId": "ea7365cc-518f-4580-d114-1804855d66a4"
      },
      "outputs": [
        {
          "data": {
            "text/plain": [
              "array([0.00732524])"
            ]
          },
          "execution_count": 93,
          "metadata": {},
          "output_type": "execute_result"
        }
      ],
      "source": [
        "scaler.scale_"
      ]
    },
    {
      "cell_type": "code",
      "execution_count": 94,
      "id": "tPcp9BKLN-Y8",
      "metadata": {
        "id": "tPcp9BKLN-Y8"
      },
      "outputs": [],
      "source": [
        "scale_factor = 1/0.00041967\n",
        "y_pred = y_pred * scale_factor\n",
        "y_test = y_test * scale_factor"
      ]
    },
    {
      "cell_type": "code",
      "execution_count": 95,
      "id": "phumyMZUOPp_",
      "metadata": {
        "colab": {
          "base_uri": "https://localhost:8080/",
          "height": 542
        },
        "id": "phumyMZUOPp_",
        "outputId": "eba0f77b-fe47-431e-cbf8-49a103e127ab"
      },
      "outputs": [
        {
          "data": {
            "image/png": "[encoded data removed]",
            "text/plain": [
              "<Figure size 1200x600 with 1 Axes>"
            ]
          },
          "metadata": {},
          "output_type": "display_data"
        }
      ],
      "source": [
        "plt.figure(figsize = (12,6))\n",
        "plt.plot(y_test, 'b', label = \"Original Price\")\n",
        "plt.plot(y_pred, 'r', label = \"Predicted Price\")\n",
        "plt.xlabel('Time')\n",
        "plt.ylabel('Price')\n",
        "plt.legend()\n",
        "plt.grid(True)\n",
        "plt.show()"
      ]
    },
    {
      "cell_type": "markdown",
      "id": "m54ljCJrpShP",
      "metadata": {
        "id": "m54ljCJrpShP"
      },
      "source": [
        "# Model evaluation"
      ]
    },
    {
      "cell_type": "markdown",
      "id": "BdnuOyYQRKRP",
      "metadata": {
        "id": "BdnuOyYQRKRP"
      },
      "source": [
        "Calculation of mean absolute error"
      ]
    },
    {
      "cell_type": "code",
      "execution_count": 96,
      "id": "Yx6JWOKcX3Yo",
      "metadata": {
        "colab": {
          "base_uri": "https://localhost:8080/"
        },
        "id": "Yx6JWOKcX3Yo",
        "outputId": "74caad7d-81e9-4866-c771-3e6beccb39d8"
      },
      "outputs": [
        {
          "name": "stdout",
          "output_type": "stream",
          "text": [
            "Mean absolute error on test set: 6.63%\n"
          ]
        }
      ],
      "source": [
        "from sklearn.metrics import mean_absolute_error\n",
        "\n",
        "mae = mean_absolute_error(y_test, y_pred)\n",
        "mae_percentage = (mae / np.mean(y_test)) * 100\n",
        "print(\"Mean absolute error on test set: {:.2f}%\".format(mae_percentage))"
      ]
    },
    {
      "cell_type": "markdown",
      "id": "M8XnY8cuQIc2",
      "metadata": {
        "id": "M8XnY8cuQIc2"
      },
      "source": [
        "Calculation of R2 score"
      ]
    },
    {
      "cell_type": "code",
      "execution_count": 98,
      "id": "GAAyLdoMNTwZ",
      "metadata": {
        "colab": {
          "base_uri": "https://localhost:8080/"
        },
        "id": "GAAyLdoMNTwZ",
        "outputId": "58c4c588-24d4-49bf-83ac-5a615a631c2e"
      },
      "outputs": [
        {
          "name": "stdout",
          "output_type": "stream",
          "text": [
            "R2 score: 0.9633406855449275\n"
          ]
        }
      ],
      "source": [
        "from sklearn.metrics import r2_score\n",
        "\n",
        "# Actual values\n",
        "actual = y_test\n",
        "\n",
        "# Predicted values\n",
        "predicted = y_pred\n",
        "\n",
        "# Calculate the R2 score\n",
        "r2 = r2_score(actual, predicted)\n",
        "\n",
        "print(\"R2 score:\", r2)"
      ]
    },
    {
      "cell_type": "code",
      "execution_count": 99,
      "id": "vQGgW50tNtMf",
      "metadata": {
        "colab": {
          "base_uri": "https://localhost:8080/",
          "height": 472
        },
        "id": "vQGgW50tNtMf",
        "outputId": "94767ec4-b582-409b-ea5d-2d5659997e8c"
      },
      "outputs": [
        {
          "data": {
            "image/png": "[encoded data removed]",
            "text/plain": [
              "<Figure size 640x480 with 1 Axes>"
            ]
          },
          "metadata": {},
          "output_type": "display_data"
        }
      ],
      "source": [
        "# Plotting the R2 score\n",
        "fig, ax = plt.subplots()\n",
        "ax.barh(0, r2, color='skyblue')\n",
        "ax.set_xlim([-1, 1])\n",
        "ax.set_yticks([])\n",
        "ax.set_xlabel('R2 Score')\n",
        "ax.set_title('R2 Score')\n",
        "\n",
        "# Adding the R2 score value on the bar\n",
        "ax.text(r2, 0, f'{r2:.2f}', va='center', color='black')\n",
        "\n",
        "plt.show()"
      ]
    },
    {
      "cell_type": "code",
      "execution_count": 100,
      "id": "Q8RHQ80hPfi4",
      "metadata": {
        "colab": {
          "base_uri": "https://localhost:8080/",
          "height": 472
        },
        "id": "Q8RHQ80hPfi4",
        "outputId": "a1b81f5b-e56b-4f29-886c-e53f7e6f2bcb"
      },
      "outputs": [
        {
          "data": {
            "image/png": "[encoded data removed]",
            "text/plain": [
              "<Figure size 640x480 with 1 Axes>"
            ]
          },
          "metadata": {},
          "output_type": "display_data"
        }
      ],
      "source": [
        "plt.scatter(actual, predicted)\n",
        "plt.plot([min(actual), max(actual)], [min(predicted), max(predicted)], 'r--')\n",
        "plt.xlabel('Actual Values')\n",
        "plt.ylabel('Predicted Values')\n",
        "plt.title(f'R2 Score: {r2:.2f}')\n",
        "plt.show()"
      ]
    }
  ],
  "metadata": {
    "accelerator": "GPU",
    "colab": {
      "include_colab_link": true,
      "provenance": []
    },
    "gpuClass": "standard",
    "kernelspec": {
      "display_name": "Python 3",
      "language": "python",
      "name": "python3"
    },
    "language_info": {
      "codemirror_mode": {
        "name": "ipython",
        "version": 3
      },
      "file_extension": ".py",
      "mimetype": "text/x-python",
      "name": "python",
      "nbconvert_exporter": "python",
      "pygments_lexer": "ipython3",
      "version": "3.11.9"
    }
  },
  "nbformat": 4,
  "nbformat_minor": 5
}
